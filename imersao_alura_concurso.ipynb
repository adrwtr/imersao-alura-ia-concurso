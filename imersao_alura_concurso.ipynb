{
  "nbformat": 4,
  "nbformat_minor": 0,
  "metadata": {
    "colab": {
      "provenance": [],
      "authorship_tag": "ABX9TyPVXBt8qieU8e1D1jaQ/6ax",
      "include_colab_link": true
    },
    "kernelspec": {
      "name": "python3",
      "display_name": "Python 3"
    },
    "language_info": {
      "name": "python"
    }
  },
  "cells": [
    {
      "cell_type": "markdown",
      "metadata": {
        "id": "view-in-github",
        "colab_type": "text"
      },
      "source": [
        "<a href=\"https://colab.research.google.com/github/adrwtr/imersao-alura-ia-concurso/blob/main/imersao_alura_concurso.ipynb\" target=\"_parent\"><img src=\"https://colab.research.google.com/assets/colab-badge.svg\" alt=\"Open In Colab\"/></a>"
      ]
    },
    {
      "cell_type": "code",
      "source": [
        "# instalando no projeto do COLAB a biblioteca do GOOGLE GENERATIVEAI\n",
        "!pip install -q -U google-generativeai"
      ],
      "metadata": {
        "id": "Gqax8wRjbjJP"
      },
      "execution_count": 1,
      "outputs": []
    },
    {
      "cell_type": "code",
      "source": [
        "# informa para a programação que vamos usar as bibliotecas\n",
        "import google.generativeai as genai\n",
        "from google.colab import userdata\n",
        "\n",
        "# Define a variavel que avi buscar do userdata a chave para a API\n",
        "api_key = userdata.get('SECRET_KEY')\n",
        "\n",
        "# verifica se a importação da chave funcionou\n",
        "# print(api_key)\n",
        "\n",
        "genai.configure(api_key=api_key)"
      ],
      "metadata": {
        "id": "6I2mdh9lbq5Z"
      },
      "execution_count": 2,
      "outputs": []
    },
    {
      "cell_type": "code",
      "source": [
        "# Definições e configurações do modelo\n",
        "generation_config = {\n",
        "  \"temperature\": 1,\n",
        "  \"top_p\": 0.95,\n",
        "  \"top_k\": 0\n",
        "}\n",
        "\n",
        "# configurações de segurança\n",
        "safety_settings = [\n",
        "  {\n",
        "    \"category\": \"HARM_CATEGORY_HARASSMENT\",\n",
        "    \"threshold\": \"BLOCK_NONE\"\n",
        "  },\n",
        "  {\n",
        "    \"category\": \"HARM_CATEGORY_HATE_SPEECH\",\n",
        "    \"threshold\": \"BLOCK_NONE\"\n",
        "  },\n",
        "  {\n",
        "    \"category\": \"HARM_CATEGORY_SEXUALLY_EXPLICIT\",\n",
        "    \"threshold\": \"BLOCK_NONE\"\n",
        "  },\n",
        "  {\n",
        "    \"category\": \"HARM_CATEGORY_DANGEROUS_CONTENT\",\n",
        "    \"threshold\": \"BLOCK_NONE\"\n",
        "  },\n",
        "\n",
        "]\n",
        "\n",
        "# define qual versao vamos usar\n",
        "model_name = 'gemini-1.0-pro'\n",
        "\n",
        "# inicia o modelo conforme as configurações\n",
        "modeloIA = genai.GenerativeModel(model_name=model_name,\n",
        "                              generation_config=generation_config,\n",
        "                              safety_settings=safety_settings)"
      ],
      "metadata": {
        "id": "51MGcuOSclRl"
      },
      "execution_count": 3,
      "outputs": []
    },
    {
      "cell_type": "code",
      "source": [
        "# importar a biblioteca para formatar o texto\n",
        "import textwrap\n",
        "from IPython.display import display\n",
        "from IPython.display import Markdown\n",
        "\n",
        "# cria uma função que podemos usar para converter o texto para markdown, deixa o texto legivel/bonito\n",
        "def to_markdown(text):\n",
        "  text = text.replace('•', '  *')\n",
        "  return Markdown(textwrap.indent(text, '> ', predicate=lambda _: True))"
      ],
      "metadata": {
        "id": "ttwQc23PiF-q"
      },
      "execution_count": 4,
      "outputs": []
    },
    {
      "cell_type": "code",
      "source": [
        "# iniciando variaveis da roda da vida\n",
        "prompt_familia = 0\n",
        "prompt_saude = 0\n",
        "prompt_trabalho = 0\n",
        "prompt_espirito = 0\n",
        "prompt_lazer = 0\n",
        "prompt_desenvolvimento = 0\n",
        "prompt_social = 0"
      ],
      "metadata": {
        "id": "8EB4SrXqpX_f"
      },
      "execution_count": 5,
      "outputs": []
    },
    {
      "cell_type": "code",
      "source": [
        "# exibe uma mensagem inicial\n",
        "to_markdown(\"**Bem vindo ao projeto Roda da Vida com Inteligência Artificial GEMINI.** Responda as perguntas abaixo se auto-avaliando e supreenda-se com as dicas e sugestões que o GEMINI irá lhe fornecer ao final!\")\n"
      ],
      "metadata": {
        "colab": {
          "base_uri": "https://localhost:8080/",
          "height": 80
        },
        "id": "O2QVtGfLhHuc",
        "outputId": "73221cb1-b060-48e9-9913-3656ecd4a3b8"
      },
      "execution_count": 7,
      "outputs": [
        {
          "output_type": "execute_result",
          "data": {
            "text/plain": [
              "<IPython.core.display.Markdown object>"
            ],
            "text/markdown": "> **Bem vindo ao projeto Roda da Vida com Inteligência Artificial GEMINI.** Responda as perguntas abaixo se auto-avaliando e supreenda-se com as dicas e sugestões que o GEMINI irá lhe fornecer ao final!"
          },
          "metadata": {},
          "execution_count": 7
        }
      ]
    },
    {
      "cell_type": "code",
      "source": [
        "# em relação a nossa Roda da VIDA - Família e relações\n",
        "respostaDoModelo = modeloIA.generate_content(\"Em relação a Roda da VIDA, de forma reduzida me explique o que devo saber sobre Família e relações. Me mostre apenas a importância.\")\n",
        "\n",
        "# exibe o texto vindo do GEMINI\n",
        "to_markdown(respostaDoModelo.text)"
      ],
      "metadata": {
        "colab": {
          "base_uri": "https://localhost:8080/",
          "height": 155
        },
        "id": "cS7F-9WndUXN",
        "outputId": "b5171497-9bad-41d3-c845-e9b309c437d2"
      },
      "execution_count": 8,
      "outputs": [
        {
          "output_type": "execute_result",
          "data": {
            "text/plain": [
              "<IPython.core.display.Markdown object>"
            ],
            "text/markdown": "> **Importância da Família e Relações na Roda da Vida:**\n> \n> * **Suporte Emocional:** A família e os relacionamentos fornecem um sentimento de pertencimento, aceitação e amor incondicional.\n> * **Estabilidade e Segurança:** Eles oferecem um lar estável, suporte financeiro e apoio em tempos difíceis.\n> * **Crescimento e Desenvolvimento:** A família e os relacionamentos desafiam e apoiam o crescimento pessoal e interpessoal.\n> * **Saúde e Bem-estar:** Relações saudáveis promovem a saúde física, mental e emocional.\n> * **Propósito e Significado:** A família e os relacionamentos dão sentido à vida e fornecem um senso de propósito."
          },
          "metadata": {},
          "execution_count": 8
        }
      ]
    },
    {
      "cell_type": "code",
      "source": [
        "# exibe um texto na tela para direcionar o usuário\n",
        "to_markdown(\"Em relação a **Família e relações**, como você avalia estes itens na sua vida? Informe a sua avaliação em valor de 1 a 10, sendo 1 para baixa importância e 10 alta importância pra você: \")"
      ],
      "metadata": {
        "colab": {
          "base_uri": "https://localhost:8080/",
          "height": 80
        },
        "id": "MzXt6AT6jrHN",
        "outputId": "d0e67540-73fd-4334-9cb5-087115fc3dc3"
      },
      "execution_count": 9,
      "outputs": [
        {
          "output_type": "execute_result",
          "data": {
            "text/plain": [
              "<IPython.core.display.Markdown object>"
            ],
            "text/markdown": "> Em relação a **Família e relações**, como você avalia estes itens na sua vida? Informe a sua avaliação em valor de 1 a 10, sendo 1 para baixa importância e 10 alta importância pra você: "
          },
          "metadata": {},
          "execution_count": 9
        }
      ]
    },
    {
      "cell_type": "code",
      "source": [
        "# o usuário precisa indicar a sua auto avaliação em relação a este ponto\n",
        "prompt_familia = int(input('Valor de 1 a 10: '))"
      ],
      "metadata": {
        "colab": {
          "base_uri": "https://localhost:8080/"
        },
        "id": "ZHbL0Y8kj0Ia",
        "outputId": "9cb476b8-9607-45d5-bba5-33e5232623eb"
      },
      "execution_count": 10,
      "outputs": [
        {
          "name": "stdout",
          "output_type": "stream",
          "text": [
            "Valor de 1 a 10: 8\n"
          ]
        }
      ]
    },
    {
      "cell_type": "code",
      "source": [
        "# tratamento para não aceitar valores incorretos\n",
        "while int(prompt_familia) <= 0 or int(prompt_familia) > 10:\n",
        "    prompt_familia = int(input('Valor de 1 a 10: '))"
      ],
      "metadata": {
        "id": "eEYsmpRJkXa6"
      },
      "execution_count": 11,
      "outputs": []
    },
    {
      "cell_type": "code",
      "source": [
        "# em relação a nossa Roda da VIDA - SAUDE\n",
        "respostaDoModelo = modeloIA.generate_content(\"Em relação a Roda da VIDA, de forma reduzida me explique o que devo saber sobre Saúde. Me mostre apenas a importância.\")\n",
        "\n",
        "# exibe um texto na tela para direcionar o usuário\n",
        "to_markdown(respostaDoModelo.text)"
      ],
      "metadata": {
        "colab": {
          "base_uri": "https://localhost:8080/",
          "height": 178
        },
        "id": "dNX025Hzk6uI",
        "outputId": "d5f47934-8732-4eae-b0d1-447b8a69fbc3"
      },
      "execution_count": 12,
      "outputs": [
        {
          "output_type": "execute_result",
          "data": {
            "text/plain": [
              "<IPython.core.display.Markdown object>"
            ],
            "text/markdown": "> **Importância da Saúde na Roda da Vida:**\n> \n> A saúde é um aspecto fundamental da Roda da Vida, pois:\n> \n> * **Fortalece a base da roda:** Uma saúde física e mental robusta fornece a energia e a resiliência necessárias para alcançar outras áreas da vida.\n> * **Influencia todas as outras áreas:** A saúde impacta o trabalho, os relacionamentos, as finanças e o bem-estar geral.\n> * **Melhora a qualidade de vida:** A saúde permite desfrutar de atividades, conectar-se com os entes queridos e realizar os sonhos.\n> * **Aumenta a expectativa de vida:** Manter uma boa saúde pode estender a longevidade e reduzir o risco de doenças crônicas.\n> * **Economiza recursos:** Investir em saúde pode economizar em custos médicos e de cuidados a longo prazo."
          },
          "metadata": {},
          "execution_count": 12
        }
      ]
    },
    {
      "cell_type": "code",
      "source": [
        "# o usuário precisa indicar a sua auto avaliação em relação a este ponto\n",
        "prompt_saude = int(input('Valor de 1 a 10: '))"
      ],
      "metadata": {
        "colab": {
          "base_uri": "https://localhost:8080/"
        },
        "id": "Y68FEmyVlGWW",
        "outputId": "acf9d82c-d9d3-446d-969d-1f59c58301ea"
      },
      "execution_count": 13,
      "outputs": [
        {
          "name": "stdout",
          "output_type": "stream",
          "text": [
            "Valor de 1 a 10: 8\n"
          ]
        }
      ]
    },
    {
      "cell_type": "code",
      "source": [
        "# tratamento para não aceitar valores incorretos\n",
        "while int(prompt_saude) <= 0 or int(prompt_saude) > 10:\n",
        "    prompt_saude = int(input('Valor de 1 a 10: '))"
      ],
      "metadata": {
        "id": "OES45x8BlJB6"
      },
      "execution_count": 14,
      "outputs": []
    },
    {
      "cell_type": "code",
      "source": [
        "# em relação a nossa Roda da VIDA - Trabalho e carreira\n",
        "respostaDoModelo = modeloIA.generate_content(\"Em relação a Roda da VIDA, de forma reduzida me explique o que devo saber sobre Trabalho e carreira. Me mostre apenas a importância.\")\n",
        "\n",
        "# exibe um texto na tela para direcionar o usuário\n",
        "to_markdown(respostaDoModelo.text)"
      ],
      "metadata": {
        "colab": {
          "base_uri": "https://localhost:8080/",
          "height": 172
        },
        "id": "AWRLkLKCmFup",
        "outputId": "43dcad66-eccc-47c3-edef-b1cf77bfc2b9"
      },
      "execution_count": 15,
      "outputs": [
        {
          "output_type": "execute_result",
          "data": {
            "text/plain": [
              "<IPython.core.display.Markdown object>"
            ],
            "text/markdown": "> **Importância de Trabalho e Carreira na Roda da Vida:**\n> \n> * **Propósito e Sentido:** Um trabalho gratificante pode fornecer propósito e significado à vida.\n> * **Estabilidade Financeira:** O trabalho é uma fonte primária de renda, garantindo estabilidade financeira e segurança.\n> * **Crescimento Pessoal e Profissional:** O trabalho pode oferecer oportunidades de desenvolvimento de habilidades, aprendizado e avanço na carreira.\n> * **Conexões Sociais:** O trabalho pode fornecer um senso de comunidade e pertencimento por meio de interações com colegas e clientes.\n> * **Equilíbrio de Vida:** Um equilíbrio saudável entre trabalho e vida pessoal é crucial para o bem-estar geral e a satisfação."
          },
          "metadata": {},
          "execution_count": 15
        }
      ]
    },
    {
      "cell_type": "code",
      "source": [
        "# o usuário precisa indicar a sua auto avaliação em relação a este ponto\n",
        "prompt_trabalho = int(input('Valor de 1 a 10: '))"
      ],
      "metadata": {
        "colab": {
          "base_uri": "https://localhost:8080/"
        },
        "id": "KVxNUB0TmN-u",
        "outputId": "a087a233-ef2f-4ebe-9cfb-7ef2947b34e8"
      },
      "execution_count": 16,
      "outputs": [
        {
          "name": "stdout",
          "output_type": "stream",
          "text": [
            "Valor de 1 a 10: 7\n"
          ]
        }
      ]
    },
    {
      "cell_type": "code",
      "source": [
        "# tratamento para não aceitar valores incorretos\n",
        "while int(prompt_trabalho) <= 0 or int(prompt_trabalho) > 10:\n",
        "    prompt_trabalho = int(input('Valor de 1 a 10: '))"
      ],
      "metadata": {
        "id": "FVXOGa5TmOf5"
      },
      "execution_count": 17,
      "outputs": []
    },
    {
      "cell_type": "code",
      "source": [
        "# em relação a nossa Roda da VIDA - Finanças\n",
        "respostaDoModelo = modeloIA.generate_content(\"Em relação a Roda da VIDA, de forma reduzida me explique o que devo saber sobre Finanças. Me mostre apenas a importância.\")\n",
        "\n",
        "# exibe um texto na tela para direcionar o usuário\n",
        "to_markdown(respostaDoModelo.text)"
      ],
      "metadata": {
        "colab": {
          "base_uri": "https://localhost:8080/",
          "height": 178
        },
        "id": "gkpcCe8Gmp-H",
        "outputId": "d24892c7-2f4b-444f-d051-9ca3cbfe4ae5"
      },
      "execution_count": 18,
      "outputs": [
        {
          "output_type": "execute_result",
          "data": {
            "text/plain": [
              "<IPython.core.display.Markdown object>"
            ],
            "text/markdown": "> **Importância das Finanças na Roda da Vida**\n> \n> As Finanças são um aspecto crucial da Roda da Vida porque:\n> \n> * Fornecem estabilidade e segurança material.\n> * Permitem que você atinja seus objetivos e conquiste seus sonhos.\n> * Reduzem o estresse e a ansiedade associados a preocupações financeiras.\n> * Fomentam bons hábitos e responsabilidade.\n> * Fortalecem relacionamentos e promovem a paz de espírito."
          },
          "metadata": {},
          "execution_count": 18
        }
      ]
    },
    {
      "cell_type": "code",
      "source": [
        "# o usuário precisa indicar a sua auto avaliação em relação a este ponto\n",
        "prompt_financeiro = int(input('Valor de 1 a 10: '))"
      ],
      "metadata": {
        "colab": {
          "base_uri": "https://localhost:8080/"
        },
        "id": "iEJOHBjFmrEM",
        "outputId": "0fec6433-8207-49e3-932c-a8f11eb27c4e"
      },
      "execution_count": 19,
      "outputs": [
        {
          "name": "stdout",
          "output_type": "stream",
          "text": [
            "Valor de 1 a 10: 9\n"
          ]
        }
      ]
    },
    {
      "cell_type": "code",
      "source": [
        "# tratamento para não aceitar valores incorretos\n",
        "while int(prompt_financeiro) <= 0 or int(prompt_financeiro) > 10:\n",
        "    prompt_financeiro = int(input('Valor de 1 a 10: '))"
      ],
      "metadata": {
        "id": "PPYjbccgmsIE"
      },
      "execution_count": 20,
      "outputs": []
    },
    {
      "cell_type": "code",
      "source": [
        "# em relação a nossa Roda da VIDA - Espiritualidade\n",
        "respostaDoModelo = modeloIA.generate_content(\"Em relação a Roda da VIDA, de forma reduzida me explique o que devo saber sobre Espiritualidade. Me mostre apenas a importância.\")\n",
        "\n",
        "# exibe um texto na tela para direcionar o usuário\n",
        "to_markdown(respostaDoModelo.text)"
      ],
      "metadata": {
        "colab": {
          "base_uri": "https://localhost:8080/",
          "height": 178
        },
        "id": "_02M4fuynBCM",
        "outputId": "627d38cc-070b-442d-c386-54ba79e68c8d"
      },
      "execution_count": null,
      "outputs": [
        {
          "output_type": "execute_result",
          "data": {
            "text/plain": [
              "<IPython.core.display.Markdown object>"
            ],
            "text/markdown": "> **Espiritualidade na Roda da Vida:**\n> \n> A espiritualidade é um aspecto crucial da Roda da Vida, pois representa:\n> \n> * **Conexão com um propósito maior:** Permite que você descubra seu significado e objetivo de vida.\n> * **Paz interior e bem-estar:** Ajuda a desenvolver resiliência, calma e um senso de propósito.\n> * **Orientação e sabedoria:** Oferece orientação durante tempos de desafio e incerteza.\n> * **Crescimento pessoal:** Facilita o autoconhecimento, a reflexão e a transformação.\n> * **Harmonia e conexão:** Promove um sentimento de pertencimento e unidade com os outros e com o mundo."
          },
          "metadata": {},
          "execution_count": 40
        }
      ]
    },
    {
      "cell_type": "code",
      "source": [
        "# o usuário precisa indicar a sua auto avaliação em relação a este ponto\n",
        "prompt_espirito = int(input('Valor de 1 a 10: '))"
      ],
      "metadata": {
        "colab": {
          "base_uri": "https://localhost:8080/"
        },
        "id": "0LZn8YqZnGXQ",
        "outputId": "98862a24-8760-48b8-d615-4950eb38721d"
      },
      "execution_count": 24,
      "outputs": [
        {
          "name": "stdout",
          "output_type": "stream",
          "text": [
            "Valor de 1 a 10: 6\n"
          ]
        }
      ]
    },
    {
      "cell_type": "code",
      "source": [
        "# tratamento para não aceitar valores incorretos\n",
        "while int(prompt_espirito) <= 0 or int(prompt_espirito) > 10:\n",
        "    prompt_espirito = int(input('Valor de 1 a 10: '))"
      ],
      "metadata": {
        "id": "Gvy07Y9RnGws"
      },
      "execution_count": 25,
      "outputs": []
    },
    {
      "cell_type": "code",
      "source": [
        "# em relação a nossa Roda da VIDA - Lazer e hobbies\n",
        "respostaDoModelo = modeloIA.generate_content(\"Em relação a Roda da VIDA, de forma reduzida me explique o que devo saber sobre Lazer e hobbies. Me mostre apenas a importância.\")\n",
        "\n",
        "# exibe um texto na tela para direcionar o usuário\n",
        "to_markdown(respostaDoModelo.text)"
      ],
      "metadata": {
        "id": "xb4jndNanLQ_",
        "colab": {
          "base_uri": "https://localhost:8080/",
          "height": 225
        },
        "outputId": "5d2715a4-f119-4bfc-f7a1-d637d7d5a7c2"
      },
      "execution_count": 26,
      "outputs": [
        {
          "output_type": "execute_result",
          "data": {
            "text/plain": [
              "<IPython.core.display.Markdown object>"
            ],
            "text/markdown": "> **Importância do Lazer e Hobbies na Roda da Vida:**\n> \n> * **Equilíbrio:** O lazer e os hobbies oferecem uma pausa do trabalho e das obrigações, promovendo o equilíbrio e evitando o esgotamento.\n> * **Bem-estar mental e físico:** As atividades de lazer reduzem o estresse, melhoram o humor e estimulam a criatividade. Elas também podem promover a atividade física e a saúde geral.\n> * **Autodescoberta:** Os hobbies fornecem oportunidades para explorar interesses, descobrir talentos ocultos e desenvolver um senso de propósito.\n> * **Relacionamentos:** Os hobbies podem facilitar as conexões sociais e fortalecer os laços com amigos e familiares que compartilham interesses semelhantes.\n> * **Crescimento pessoal:** O lazer e os hobbies podem aprimorar habilidades, expandir conhecimento e fornecer oportunidades para aprendizado e desenvolvimento contínuo."
          },
          "metadata": {},
          "execution_count": 26
        }
      ]
    },
    {
      "cell_type": "code",
      "source": [
        "# o usuário precisa indicar a sua auto avaliação em relação a este ponto\n",
        "prompt_lazer = int(input('Valor de 1 a 10: '))"
      ],
      "metadata": {
        "id": "rhTB6zH9nX1k",
        "colab": {
          "base_uri": "https://localhost:8080/"
        },
        "outputId": "dd288a9f-2b37-4201-e0be-00fd67628fe4"
      },
      "execution_count": 27,
      "outputs": [
        {
          "name": "stdout",
          "output_type": "stream",
          "text": [
            "Valor de 1 a 10: 3\n"
          ]
        }
      ]
    },
    {
      "cell_type": "code",
      "source": [
        "# tratamento para não aceitar valores incorretos\n",
        "while int(prompt_lazer) <= 0 or int(prompt_lazer) > 10:\n",
        "    prompt_lazer = int(input('Valor de 1 a 10: '))"
      ],
      "metadata": {
        "id": "24zbzczNnbmh"
      },
      "execution_count": 28,
      "outputs": []
    },
    {
      "cell_type": "code",
      "source": [
        "# em relação a nossa Roda da VIDA - Desenvolvimento pessoal\n",
        "respostaDoModelo = modeloIA.generate_content(\"Em relação a Roda da VIDA, de forma reduzida me explique o que devo saber sobre Desenvolvimento pessoal. Me mostre apenas a importância.\")\n",
        "\n",
        "# exibe um texto na tela para direcionar o usuário\n",
        "to_markdown(respostaDoModelo.text)"
      ],
      "metadata": {
        "colab": {
          "base_uri": "https://localhost:8080/",
          "height": 265
        },
        "id": "ou1jUgcJnew0",
        "outputId": "30fc4315-7622-4ec2-8c0e-d2c11afc1354"
      },
      "execution_count": 29,
      "outputs": [
        {
          "output_type": "execute_result",
          "data": {
            "text/plain": [
              "<IPython.core.display.Markdown object>"
            ],
            "text/markdown": "> **Importância do Desenvolvimento Pessoal na Roda da Vida:**\n> \n> O Desenvolvimento Pessoal representa um setor crucial na Roda da Vida porque:\n> \n> * **Melhora a autoestima e a autoconfiança:** Ajuda você a identificar pontos fortes e áreas de crescimento, levando a uma sensação de realização e bem-estar.\n> * **Aumenta o potencial:** Habilidades aprimoradas e conhecimentos expandidos permitem que você alcance metas mais altas e alcance seu pleno potencial.\n> * **Melhora os relacionamentos:** O autoconhecimento e as habilidades interpessoais aprimoradas permitem que você se conecte com os outros de forma mais significativa e construtiva.\n> * **Promove o bem-estar:** O desenvolvimento pessoal abrange saúde física, mental e emocional, contribuindo para uma vida mais equilibrada e satisfatória.\n> * **Adaptação à mudança:** Em um mundo em constante evolução, a capacidade de se adaptar e crescer é essencial para o sucesso contínuo e a realização pessoal."
          },
          "metadata": {},
          "execution_count": 29
        }
      ]
    },
    {
      "cell_type": "code",
      "source": [
        "# o usuário precisa indicar a sua auto avaliação em relação a este ponto\n",
        "prompt_desenvolvimento = int(input('Valor de 1 a 10: '))"
      ],
      "metadata": {
        "colab": {
          "base_uri": "https://localhost:8080/"
        },
        "id": "KQzoYwFinif5",
        "outputId": "4886c070-2a3f-4b77-86bb-c955df40f979"
      },
      "execution_count": 30,
      "outputs": [
        {
          "name": "stdout",
          "output_type": "stream",
          "text": [
            "Valor de 1 a 10: 8\n"
          ]
        }
      ]
    },
    {
      "cell_type": "code",
      "source": [
        "# tratamento para não aceitar valores incorretos\n",
        "while int(prompt_desenvolvimento) <= 0 or int(prompt_desenvolvimento) > 10:\n",
        "    prompt_desenvolvimento = int(input('Valor de 1 a 10: '))"
      ],
      "metadata": {
        "id": "lrVNc2eUnjx-"
      },
      "execution_count": 31,
      "outputs": []
    },
    {
      "cell_type": "code",
      "source": [
        "# em relação a nossa Roda da VIDA - Contribuição social\n",
        "respostaDoModelo = modeloIA.generate_content(\"Em relação a Roda da VIDA, de forma reduzida me explique o que devo saber sobre Contribuição social. Me mostre apenas a importância.\")\n",
        "\n",
        "# exibe um texto na tela para direcionar o usuário\n",
        "to_markdown(respostaDoModelo.text)"
      ],
      "metadata": {
        "colab": {
          "base_uri": "https://localhost:8080/",
          "height": 155
        },
        "id": "XseG6W87nlT4",
        "outputId": "8a9054c2-c365-4b11-f075-1b9400618bf6"
      },
      "execution_count": 32,
      "outputs": [
        {
          "output_type": "execute_result",
          "data": {
            "text/plain": [
              "<IPython.core.display.Markdown object>"
            ],
            "text/markdown": "> **Importância da Contribuição Social na Roda da Vida:**\n> \n> * Refere-se às nossas ações para melhorar a sociedade e fazer a diferença.\n> * Inclui atividades como voluntariado, doações de caridade e apoio a causas sociais.\n> * Promove um senso de propósito e significado.\n> * Ajuda a criar um impacto positivo no mundo e nas vidas dos outros.\n> * Contribui para o bem-estar geral e a satisfação com a vida."
          },
          "metadata": {},
          "execution_count": 32
        }
      ]
    },
    {
      "cell_type": "code",
      "source": [
        "# o usuário precisa indicar a sua auto avaliação em relação a este ponto\n",
        "prompt_social = int(input('Valor de 1 a 10: '))"
      ],
      "metadata": {
        "colab": {
          "base_uri": "https://localhost:8080/"
        },
        "id": "R2lzu4jonp46",
        "outputId": "c6cb132a-6d46-4814-df53-d7c8397ba0d1"
      },
      "execution_count": 33,
      "outputs": [
        {
          "name": "stdout",
          "output_type": "stream",
          "text": [
            "Valor de 1 a 10: 10\n"
          ]
        }
      ]
    },
    {
      "cell_type": "code",
      "source": [
        "# tratamento para não aceitar valores incorretos\n",
        "while int(prompt_social) <= 0 or int(prompt_social) > 10:\n",
        "    prompt_social = int(input('Valor de 1 a 10: '))"
      ],
      "metadata": {
        "id": "f0jdF2Flnqt1"
      },
      "execution_count": 34,
      "outputs": []
    },
    {
      "cell_type": "code",
      "source": [
        "# busquei esta função da intrnet, ela gera uma lista chave valor conforme as respostas\n",
        "def dict_to_text(my_dict):\n",
        "  \"\"\"Converts a dictionary to text with formatted key-value pairs.\n",
        "\n",
        "  Args:\n",
        "      my_dict: The dictionary to convert.\n",
        "\n",
        "  Returns:\n",
        "      A string containing the formatted key-value pairs.\n",
        "  \"\"\"\n",
        "\n",
        "  lines = []\n",
        "  for key, value in my_dict.items():\n",
        "    # Ensure consistent string representation for values\n",
        "    value_str = str(value)\n",
        "\n",
        "    # Format the key-value pair with proper indentation and spacing\n",
        "    line = f\"{key}={value_str}\"\n",
        "    lines.append(line)\n",
        "\n",
        "  return \"\\n\".join(lines)"
      ],
      "metadata": {
        "id": "vEBDUum6qVO5"
      },
      "execution_count": 35,
      "outputs": []
    },
    {
      "cell_type": "code",
      "source": [
        "# helper de código para ajudar a DEBUGAR a aplicação\n",
        "# iniciando variaveis da roda da vida\n",
        "\n",
        "# descomente abaixo caso queira testar resultados\n",
        "\n",
        "# prompt_familia = 5\n",
        "# prompt_saude = 4\n",
        "# prompt_trabalho = 1\n",
        "# prompt_espirito = 4\n",
        "# prompt_lazer = 2\n",
        "# prompt_desenvolvimento = 5\n",
        "# prompt_social = 3"
      ],
      "metadata": {
        "id": "_FTQ_FBcsbc9"
      },
      "execution_count": 36,
      "outputs": []
    },
    {
      "cell_type": "code",
      "source": [
        "# Cria um dicionário com cada auto-avaliação\n",
        "dicionario = {\n",
        "    \"Familia\": prompt_familia\n",
        "    , \"Saude\" : prompt_saude\n",
        "    , \"Trabalho\" : prompt_trabalho\n",
        "    , \"Espirito\" : prompt_espirito\n",
        "    , \"Lazer\" : prompt_lazer\n",
        "    , \"Desenvolvimento\" : prompt_desenvolvimento\n",
        "    , \"Social\" : prompt_social\n",
        "}\n"
      ],
      "metadata": {
        "id": "0YIw3rrAoVjl"
      },
      "execution_count": 37,
      "outputs": []
    },
    {
      "cell_type": "code",
      "source": [
        "#print(dict_to_text(dicionario))\n",
        "\n",
        "# avalie as notas\n",
        "respostaDoModelo = modeloIA.generate_content(\n",
        "    [\n",
        "        \"Você é um psicologo especialista na roda da vida.\"\n",
        "        \"Você deve avaliar dois itens conforme as notas indicadas de 1 a 10 e buscar pelas menores notas. Selecione apenas as duas menores notas.\",\n",
        "        \"Para os itens com menores notas, informe indicações práticas para melhorar a auto-estima.\",\n",
        "        dict_to_text(dicionario)\n",
        "    ]\n",
        ")\n",
        "\n",
        "# exibe um texto na tela para direcionar o usuário\n",
        "to_markdown(respostaDoModelo.text)"
      ],
      "metadata": {
        "colab": {
          "base_uri": "https://localhost:8080/",
          "height": 359
        },
        "id": "TAiZ4tqyqXTL",
        "outputId": "8a1be7cb-5d05-42ad-da57-353b6b895388"
      },
      "execution_count": 38,
      "outputs": [
        {
          "output_type": "execute_result",
          "data": {
            "text/plain": [
              "<IPython.core.display.Markdown object>"
            ],
            "text/markdown": "> **Itens com menores notas:**\n> \n> * Lazer (nota 3)\n> * Espírito (nota 6)\n> \n> **Indicações práticas para melhorar a auto-estima em relação a esses itens:**\n> \n> **Lazer:**\n> \n> * Dedique tempo regular para atividades de lazer que você goste.\n> * Explore novos hobbies e interesses para encontrar o que lhe traz alegria.\n> * Conecte-se com amigos e familiares para atividades sociais.\n> * Estabeleça limites claros entre trabalho e lazer para evitar esgotamento.\n> * Recompense-se por reservar tempo para lazer.\n> \n> **Espírito:**\n> \n> * Pratique a gratidão diariamente, concentrando-se nas coisas boas da sua vida.\n> * Defina metas realistas e pequenas e celebre seus progressos.\n> * Encontre significado e propósito em sua vida através do voluntariado ou de atividades que beneficiem os outros.\n> * Cuide da sua saúde mental e física, pois elas afetam seu bem-estar espiritual.\n> * Conecte-se com pessoas que o inspiram e apoiam."
          },
          "metadata": {},
          "execution_count": 38
        }
      ]
    },
    {
      "cell_type": "code",
      "source": [
        "# avalie as notas\n",
        "respostaDoModelo = modeloIA.generate_content(\n",
        "    [\n",
        "        \"Você é um psicologo especialista na roda da vida.\",\n",
        "        \"Procure as duas maiores notas, e as duas menores notas da lista abaixo\",\n",
        "         dict_to_text(dicionario),\n",
        "        \"E faça um relacionamento de como as áreas com maiores pontuações podem ajudar nas de menor pontuação\",\n",
        "        \"Dê exemplos práticos que podem ser realizados no dia a dia de uma pessoa normal\"\n",
        "    ]\n",
        ")\n",
        "\n",
        "# exibe um texto na tela para direcionar o usuário\n",
        "to_markdown(respostaDoModelo.text)"
      ],
      "metadata": {
        "colab": {
          "base_uri": "https://localhost:8080/",
          "height": 627
        },
        "id": "EXio6j5nihKE",
        "outputId": "38b80cd0-9bd8-478c-c55b-ea55d9471dcc"
      },
      "execution_count": 40,
      "outputs": [
        {
          "output_type": "execute_result",
          "data": {
            "text/plain": [
              "<IPython.core.display.Markdown object>"
            ],
            "text/markdown": "> **Maiores notas:**\n> \n> * Família = 8\n> * Social = 10\n> \n> **Menores notas:**\n> \n> * Lazer = 3\n> * Espírito = 6\n> \n> **Como as áreas com maiores pontuações podem ajudar nas de menor pontuação:**\n> \n> **Família e Lazer:**\n> \n> * **Exemplo:** Reservar tempo para atividades familiares que promovam relaxamento e diversão, como jogos de tabuleiro ou passeios na natureza.\n> \n> **Família e Espírito:**\n> \n> * **Exemplo:** Criar um ambiente familiar amoroso e de apoio, onde os membros possam compartilhar seus sentimentos e buscar orientação uns nos outros.\n> \n> **Social e Lazer:**\n> \n> * **Exemplo:** Juntar-se a grupos sociais ou atividades que ofereçam oportunidades de lazer e interação social.\n> \n> **Social e Espírito:**\n> \n> * **Exemplo:** Participar de atividades comunitárias ou trabalhos voluntários que conectem os indivíduos a um propósito maior e promovam uma sensação de pertencimento.\n> \n> **Exemplos práticos para o dia a dia:**\n> \n> * **Para melhorar o lazer:**\n>     * Planeje uma noite semanal de filmes com a família.\n>     * Inscreva-se em uma aula de dança ou ioga para relaxar e se divertir.\n> * **Para melhorar o espírito:**\n>     * Estabeleça um ritual de meditação matinal para acalmar a mente e se conectar consigo mesmo.\n>     * Junte-se a um grupo de apoio ou comunidade espiritual para encontrar pessoas com valores semelhantes.\n> * **Para melhorar as habilidades sociais:**\n>     * Participe de eventos sociais como festas ou reuniões de comunidade.\n>     * Ofereça-se como voluntário em uma instituição de caridade ou organização sem fins lucrativos."
          },
          "metadata": {},
          "execution_count": 40
        }
      ]
    }
  ]
}