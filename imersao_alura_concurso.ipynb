{
  "nbformat": 4,
  "nbformat_minor": 0,
  "metadata": {
    "colab": {
      "provenance": [],
      "authorship_tag": "ABX9TyOjEnpTjS+SLVFMWnJ3whtw",
      "include_colab_link": true
    },
    "kernelspec": {
      "name": "python3",
      "display_name": "Python 3"
    },
    "language_info": {
      "name": "python"
    }
  },
  "cells": [
    {
      "cell_type": "markdown",
      "metadata": {
        "id": "view-in-github",
        "colab_type": "text"
      },
      "source": [
        "<a href=\"https://colab.research.google.com/github/adrwtr/imersao-alura-ia-concurso/blob/main/imersao_alura_concurso.ipynb\" target=\"_parent\"><img src=\"https://colab.research.google.com/assets/colab-badge.svg\" alt=\"Open In Colab\"/></a>"
      ]
    },
    {
      "cell_type": "code",
      "source": [
        "# instalando no projeto do COLAB a biblioteca do GOOGLE GENERATIVEAI\n",
        "!pip install -q -U google-generativeai"
      ],
      "metadata": {
        "id": "Gqax8wRjbjJP"
      },
      "execution_count": null,
      "outputs": []
    },
    {
      "cell_type": "code",
      "source": [
        "# informa para a programação que vamos usar as bibliotecas\n",
        "import google.generativeai as genai\n",
        "from google.colab import userdata\n",
        "\n",
        "# Define a variavel que vai buscar do userdata a chave para a API\n",
        "api_key = userdata.get('SECRET_KEY')\n",
        "\n",
        "# verifica se a importação da chave funcionou\n",
        "# print(api_key)\n",
        "\n",
        "genai.configure(api_key=api_key)"
      ],
      "metadata": {
        "id": "6I2mdh9lbq5Z"
      },
      "execution_count": null,
      "outputs": []
    },
    {
      "cell_type": "code",
      "source": [
        "# Definições e configurações do modelo\n",
        "generation_config = {\n",
        "  \"temperature\": 1,\n",
        "  \"top_p\": 0.95,\n",
        "  \"top_k\": 0\n",
        "}\n",
        "\n",
        "# configurações de segurança\n",
        "safety_settings = [\n",
        "  {\n",
        "    \"category\": \"HARM_CATEGORY_HARASSMENT\",\n",
        "    \"threshold\": \"BLOCK_NONE\"\n",
        "  },\n",
        "  {\n",
        "    \"category\": \"HARM_CATEGORY_HATE_SPEECH\",\n",
        "    \"threshold\": \"BLOCK_NONE\"\n",
        "  },\n",
        "  {\n",
        "    \"category\": \"HARM_CATEGORY_SEXUALLY_EXPLICIT\",\n",
        "    \"threshold\": \"BLOCK_NONE\"\n",
        "  },\n",
        "  {\n",
        "    \"category\": \"HARM_CATEGORY_DANGEROUS_CONTENT\",\n",
        "    \"threshold\": \"BLOCK_NONE\"\n",
        "  },\n",
        "\n",
        "]\n",
        "\n",
        "# define qual versao vamos usar\n",
        "model_name = 'gemini-1.0-pro'\n",
        "\n",
        "# inicia o modelo conforme as configurações\n",
        "modeloIA = genai.GenerativeModel(model_name=model_name,\n",
        "                              generation_config=generation_config,\n",
        "                              safety_settings=safety_settings)"
      ],
      "metadata": {
        "id": "51MGcuOSclRl"
      },
      "execution_count": null,
      "outputs": []
    },
    {
      "cell_type": "code",
      "source": [
        "# importar a biblioteca para formatar o texto\n",
        "import textwrap\n",
        "from IPython.display import display\n",
        "from IPython.display import Markdown\n",
        "\n",
        "# cria uma função que podemos usar para converter o texto para markdown, deixa o texto legivel/bonito\n",
        "def to_markdown(text):\n",
        "  text = text.replace('•', '  *')\n",
        "  return Markdown(textwrap.indent(text, '> ', predicate=lambda _: True))"
      ],
      "metadata": {
        "id": "ttwQc23PiF-q"
      },
      "execution_count": null,
      "outputs": []
    },
    {
      "cell_type": "code",
      "source": [
        "# iniciando variaveis da roda da vida\n",
        "prompt_familia = 0\n",
        "prompt_saude = 0\n",
        "prompt_trabalho = 0\n",
        "prompt_espirito = 0\n",
        "prompt_lazer = 0\n",
        "prompt_desenvolvimento = 0\n",
        "prompt_social = 0"
      ],
      "metadata": {
        "id": "8EB4SrXqpX_f"
      },
      "execution_count": null,
      "outputs": []
    },
    {
      "cell_type": "code",
      "source": [
        "# exibe uma mensagem inicial\n",
        "to_markdown(\"**Bem vindo ao projeto Roda da Vida com Inteligência Artificial GEMINI.** Responda as perguntas abaixo se auto-avaliando e supreenda-se com as dicas e sugestões que o GEMINI irá lhe fornecer ao final!\")\n"
      ],
      "metadata": {
        "colab": {
          "base_uri": "https://localhost:8080/",
          "height": 80
        },
        "id": "O2QVtGfLhHuc",
        "outputId": "73221cb1-b060-48e9-9913-3656ecd4a3b8"
      },
      "execution_count": null,
      "outputs": [
        {
          "output_type": "execute_result",
          "data": {
            "text/plain": [
              "<IPython.core.display.Markdown object>"
            ],
            "text/markdown": "> **Bem vindo ao projeto Roda da Vida com Inteligência Artificial GEMINI.** Responda as perguntas abaixo se auto-avaliando e supreenda-se com as dicas e sugestões que o GEMINI irá lhe fornecer ao final!"
          },
          "metadata": {},
          "execution_count": 7
        }
      ]
    },
    {
      "cell_type": "code",
      "source": [
        "# em relação a nossa Roda da VIDA - Família e relações\n",
        "respostaDoModelo = modeloIA.generate_content(\"Em relação a Roda da VIDA, de forma reduzida me explique o que devo saber sobre Família e relações. Me mostre apenas a importância.\")\n",
        "\n",
        "# exibe o texto vindo do GEMINI\n",
        "to_markdown(respostaDoModelo.text)"
      ],
      "metadata": {
        "colab": {
          "base_uri": "https://localhost:8080/",
          "height": 155
        },
        "id": "cS7F-9WndUXN",
        "outputId": "425e97d3-d9ab-4ec2-eb76-a599d369207b"
      },
      "execution_count": null,
      "outputs": [
        {
          "output_type": "execute_result",
          "data": {
            "text/plain": [
              "<IPython.core.display.Markdown object>"
            ],
            "text/markdown": "> **Importância de Família e Relações na Roda da Vida:**\n> \n> * Estabelecer relacionamentos sólidos e amorosos melhora o bem-estar geral e a felicidade.\n> * A família e os amigos fornecem apoio emocional, orientação e senso de pertencimento.\n> * Relações saudáveis reduzem o estresse, aumentam a autoestima e promovem uma vida mais gratificante.\n> * Manter relacionamentos positivos contribui para uma melhor saúde física e mental.\n> * Fortes conexões sociais são essenciais para um senso de propósito e significado na vida."
          },
          "metadata": {},
          "execution_count": 42
        }
      ]
    },
    {
      "cell_type": "code",
      "source": [
        "# exibe um texto na tela para direcionar o usuário\n",
        "to_markdown(\"Em relação a **Família e relações**, como você avalia estes itens na sua vida? Informe a sua avaliação em valor de 1 a 10, sendo 1 para baixa importância e 10 alta importância pra você: \")"
      ],
      "metadata": {
        "colab": {
          "base_uri": "https://localhost:8080/",
          "height": 80
        },
        "id": "MzXt6AT6jrHN",
        "outputId": "b8e93c19-5b61-4894-8acf-ca0ed95a494e"
      },
      "execution_count": null,
      "outputs": [
        {
          "output_type": "execute_result",
          "data": {
            "text/plain": [
              "<IPython.core.display.Markdown object>"
            ],
            "text/markdown": "> Em relação a **Família e relações**, como você avalia estes itens na sua vida? Informe a sua avaliação em valor de 1 a 10, sendo 1 para baixa importância e 10 alta importância pra você: "
          },
          "metadata": {},
          "execution_count": 43
        }
      ]
    },
    {
      "cell_type": "code",
      "source": [
        "# o usuário precisa indicar a sua auto avaliação em relação a este ponto\n",
        "prompt_familia = int(input('Valor de 1 a 10: '))"
      ],
      "metadata": {
        "colab": {
          "base_uri": "https://localhost:8080/"
        },
        "id": "ZHbL0Y8kj0Ia",
        "outputId": "066b9e90-ab9a-4c83-a835-0f426d62a1a1"
      },
      "execution_count": null,
      "outputs": [
        {
          "name": "stdout",
          "output_type": "stream",
          "text": [
            "Valor de 1 a 10: 8\n"
          ]
        }
      ]
    },
    {
      "cell_type": "code",
      "source": [
        "# tratamento para não aceitar valores incorretos\n",
        "while int(prompt_familia) <= 0 or int(prompt_familia) > 10:\n",
        "    prompt_familia = int(input('Valor de 1 a 10: '))"
      ],
      "metadata": {
        "id": "eEYsmpRJkXa6"
      },
      "execution_count": null,
      "outputs": []
    },
    {
      "cell_type": "code",
      "source": [
        "# em relação a nossa Roda da VIDA - SAUDE\n",
        "respostaDoModelo = modeloIA.generate_content(\"Em relação a Roda da VIDA, de forma reduzida me explique o que devo saber sobre Saúde. Me mostre apenas a importância.\")\n",
        "\n",
        "# exibe um texto na tela para direcionar o usuário\n",
        "to_markdown(respostaDoModelo.text)"
      ],
      "metadata": {
        "colab": {
          "base_uri": "https://localhost:8080/",
          "height": 155
        },
        "id": "dNX025Hzk6uI",
        "outputId": "bb91e75c-5728-461c-be96-e9cbbee56e90"
      },
      "execution_count": null,
      "outputs": [
        {
          "output_type": "execute_result",
          "data": {
            "text/plain": [
              "<IPython.core.display.Markdown object>"
            ],
            "text/markdown": "> **Importância da Saúde na Roda da Vida:**\n> \n> * Base essencial para todas as outras áreas da vida.\n> * Saúde física e mental saudáveis permitem que você aproveite a vida ao máximo.\n> * Aumenta a produtividade, criatividade e bem-estar geral.\n> * Impacta diretamente relacionamentos, carreira e desenvolvimento pessoal.\n> * Investimentos em saúde hoje levam a uma vida mais longa, saudável e plena no futuro."
          },
          "metadata": {},
          "execution_count": 46
        }
      ]
    },
    {
      "cell_type": "code",
      "source": [
        "# o usuário precisa indicar a sua auto avaliação em relação a este ponto\n",
        "prompt_saude = int(input('Valor de 1 a 10: '))"
      ],
      "metadata": {
        "colab": {
          "base_uri": "https://localhost:8080/"
        },
        "id": "Y68FEmyVlGWW",
        "outputId": "b2794ec5-b0bb-411f-a70f-1e34a23db986"
      },
      "execution_count": null,
      "outputs": [
        {
          "name": "stdout",
          "output_type": "stream",
          "text": [
            "Valor de 1 a 10: 6\n"
          ]
        }
      ]
    },
    {
      "cell_type": "code",
      "source": [
        "# tratamento para não aceitar valores incorretos\n",
        "while int(prompt_saude) <= 0 or int(prompt_saude) > 10:\n",
        "    prompt_saude = int(input('Valor de 1 a 10: '))"
      ],
      "metadata": {
        "id": "OES45x8BlJB6"
      },
      "execution_count": null,
      "outputs": []
    },
    {
      "cell_type": "code",
      "source": [
        "# em relação a nossa Roda da VIDA - Trabalho e carreira\n",
        "respostaDoModelo = modeloIA.generate_content(\"Em relação a Roda da VIDA, de forma reduzida me explique o que devo saber sobre Trabalho e carreira. Me mostre apenas a importância.\")\n",
        "\n",
        "# exibe um texto na tela para direcionar o usuário\n",
        "to_markdown(respostaDoModelo.text)"
      ],
      "metadata": {
        "colab": {
          "base_uri": "https://localhost:8080/",
          "height": 190
        },
        "id": "AWRLkLKCmFup",
        "outputId": "c40dcb6a-57d6-43cb-a839-9777ecb43f85"
      },
      "execution_count": null,
      "outputs": [
        {
          "output_type": "execute_result",
          "data": {
            "text/plain": [
              "<IPython.core.display.Markdown object>"
            ],
            "text/markdown": "> **Importância de Trabalho e Carreira na Roda da Vida:**\n> \n> * **Propósito e Satisfação:** O trabalho fornece um senso de propósito e realização. Ele pode alinhar-se com nossos valores e paixões, trazendo satisfação e crescimento.\n> * **Estabilidade Financeira:** O trabalho é uma fonte primária de renda, fornecendo estabilidade financeira e segurança para você e sua família.\n> * **Crescimento Pessoal:** O trabalho pode oferecer oportunidades para aprender, desenvolver habilidades e crescer profissionalmente. Isso pode levar ao avanço na carreira e a um maior potencial de ganhos.\n> * **Equilíbrio entre Vida Pessoal e Profissional:** Um trabalho equilibrado permite que você tenha tempo para relacionamentos, atividades e bem-estar pessoal, criando uma vida plena."
          },
          "metadata": {},
          "execution_count": 49
        }
      ]
    },
    {
      "cell_type": "code",
      "source": [
        "# o usuário precisa indicar a sua auto avaliação em relação a este ponto\n",
        "prompt_trabalho = int(input('Valor de 1 a 10: '))"
      ],
      "metadata": {
        "colab": {
          "base_uri": "https://localhost:8080/"
        },
        "id": "KVxNUB0TmN-u",
        "outputId": "e72fe19e-04b4-4ddb-b710-9cee60354d38"
      },
      "execution_count": null,
      "outputs": [
        {
          "name": "stdout",
          "output_type": "stream",
          "text": [
            "Valor de 1 a 10: 8\n"
          ]
        }
      ]
    },
    {
      "cell_type": "code",
      "source": [
        "# tratamento para não aceitar valores incorretos\n",
        "while int(prompt_trabalho) <= 0 or int(prompt_trabalho) > 10:\n",
        "    prompt_trabalho = int(input('Valor de 1 a 10: '))"
      ],
      "metadata": {
        "id": "FVXOGa5TmOf5"
      },
      "execution_count": null,
      "outputs": []
    },
    {
      "cell_type": "code",
      "source": [
        "# em relação a nossa Roda da VIDA - Finanças\n",
        "respostaDoModelo = modeloIA.generate_content(\"Em relação a Roda da VIDA, de forma reduzida me explique o que devo saber sobre Finanças. Me mostre apenas a importância.\")\n",
        "\n",
        "# exibe um texto na tela para direcionar o usuário\n",
        "to_markdown(respostaDoModelo.text)"
      ],
      "metadata": {
        "colab": {
          "base_uri": "https://localhost:8080/",
          "height": 190
        },
        "id": "gkpcCe8Gmp-H",
        "outputId": "379c936d-540c-4d02-817e-bfb1259d0493"
      },
      "execution_count": null,
      "outputs": [
        {
          "output_type": "execute_result",
          "data": {
            "text/plain": [
              "<IPython.core.display.Markdown object>"
            ],
            "text/markdown": "> **Importância das Finanças na Roda da Vida:**\n> \n> * **Estabilidade financeira:** Finanças saudáveis proporcionam uma sensação de segurança e bem-estar.\n> * **Controle de estresse:** As preocupações financeiras podem ser uma fonte significativa de estresse. Gerir bem as finanças pode reduzir esse estresse.\n> * **Alcançar metas:** As finanças permitem que você economize para metas futuras, como educação, aposentadoria ou uma casa.\n> * **Qualidade de vida:** Finanças saudáveis podem permitir que você tenha acesso a melhores serviços de saúde, educação e atividades recreativas.\n> * **Independência:** Ser financeiramente independente permite que você tome decisões sobre sua vida sem depender dos outros."
          },
          "metadata": {},
          "execution_count": 52
        }
      ]
    },
    {
      "cell_type": "code",
      "source": [
        "# o usuário precisa indicar a sua auto avaliação em relação a este ponto\n",
        "prompt_financeiro = int(input('Valor de 1 a 10: '))"
      ],
      "metadata": {
        "colab": {
          "base_uri": "https://localhost:8080/"
        },
        "id": "iEJOHBjFmrEM",
        "outputId": "76dd7cf4-1e19-4f85-d0a7-73edf0b9d9ac"
      },
      "execution_count": null,
      "outputs": [
        {
          "name": "stdout",
          "output_type": "stream",
          "text": [
            "Valor de 1 a 10: 8\n"
          ]
        }
      ]
    },
    {
      "cell_type": "code",
      "source": [
        "# tratamento para não aceitar valores incorretos\n",
        "while int(prompt_financeiro) <= 0 or int(prompt_financeiro) > 10:\n",
        "    prompt_financeiro = int(input('Valor de 1 a 10: '))"
      ],
      "metadata": {
        "id": "PPYjbccgmsIE"
      },
      "execution_count": null,
      "outputs": []
    },
    {
      "cell_type": "code",
      "source": [
        "# em relação a nossa Roda da VIDA - Espiritualidade\n",
        "respostaDoModelo = modeloIA.generate_content(\"Em relação a Roda da VIDA, de forma reduzida me explique o que devo saber sobre Espiritualidade. Me mostre apenas a importância.\")\n",
        "\n",
        "# exibe um texto na tela para direcionar o usuário\n",
        "to_markdown(respostaDoModelo.text)"
      ],
      "metadata": {
        "colab": {
          "base_uri": "https://localhost:8080/",
          "height": 265
        },
        "id": "_02M4fuynBCM",
        "outputId": "a1136a51-42d3-47f1-af9f-bbab568ccfc5"
      },
      "execution_count": null,
      "outputs": [
        {
          "output_type": "execute_result",
          "data": {
            "text/plain": [
              "<IPython.core.display.Markdown object>"
            ],
            "text/markdown": "> **Importância da Espiritualidade na Roda da Vida:**\n> \n> A espiritualidade é um aspecto fundamental da Roda da Vida que representa a conexão de um indivíduo com seus valores e propósito mais profundos.\n> \n> * **Autoconhecimento:** A espiritualidade promove a reflexão interior e o autoconhecimento, ajudando-nos a entender quem somos, o que valorizamos e nosso lugar no universo.\n> * **Sentido e Propósito:** Fornece um senso de significado e direção, guiando nossas ações e decisões em alinhamento com nossos valores espirituais.\n> * **Conexão:** Cultiva um sentimento de pertencimento e conexão com algo maior que nós mesmos, seja isso uma divindade, natureza ou um sistema de crenças.\n> * **Resiliência:** A espiritualidade oferece apoio e conforto durante tempos desafiadores, aumentando nossa resiliência e capacidade de enfrentar adversidades.\n> * **Equilíbrio e Bem-estar:** Promove o equilíbrio emocional e mental, reduzindo estresse e ansiedade, e promovendo paz interior e bem-estar."
          },
          "metadata": {},
          "execution_count": 57
        }
      ]
    },
    {
      "cell_type": "code",
      "source": [
        "# o usuário precisa indicar a sua auto avaliação em relação a este ponto\n",
        "prompt_espirito = int(input('Valor de 1 a 10: '))"
      ],
      "metadata": {
        "colab": {
          "base_uri": "https://localhost:8080/"
        },
        "id": "0LZn8YqZnGXQ",
        "outputId": "f5ebba43-39c9-4fb0-b8a8-5f52f56a7606"
      },
      "execution_count": null,
      "outputs": [
        {
          "name": "stdout",
          "output_type": "stream",
          "text": [
            "Valor de 1 a 10: 8\n"
          ]
        }
      ]
    },
    {
      "cell_type": "code",
      "source": [
        "# tratamento para não aceitar valores incorretos\n",
        "while int(prompt_espirito) <= 0 or int(prompt_espirito) > 10:\n",
        "    prompt_espirito = int(input('Valor de 1 a 10: '))"
      ],
      "metadata": {
        "id": "Gvy07Y9RnGws"
      },
      "execution_count": null,
      "outputs": []
    },
    {
      "cell_type": "code",
      "source": [
        "# em relação a nossa Roda da VIDA - Lazer e hobbies\n",
        "respostaDoModelo = modeloIA.generate_content(\"Em relação a Roda da VIDA, de forma reduzida me explique o que devo saber sobre Lazer e hobbies. Me mostre apenas a importância.\")\n",
        "\n",
        "# exibe um texto na tela para direcionar o usuário\n",
        "to_markdown(respostaDoModelo.text)"
      ],
      "metadata": {
        "id": "xb4jndNanLQ_",
        "colab": {
          "base_uri": "https://localhost:8080/",
          "height": 207
        },
        "outputId": "96d586de-6dd7-4136-caa2-8c5d792a0ee7"
      },
      "execution_count": null,
      "outputs": [
        {
          "output_type": "execute_result",
          "data": {
            "text/plain": [
              "<IPython.core.display.Markdown object>"
            ],
            "text/markdown": "> **Importância do Lazer e Hobbies na Roda da Vida:**\n> \n> * **Redução do estresse:** Atividades de lazer e hobbies podem fornecer uma fuga do estresse e das pressões da vida cotidiana.\n> * **Bem-estar emocional:** Participar de atividades que você desfruta pode melhorar o humor, aumentar a autoconfiança e reduzir a ansiedade.\n> * **Equilíbrio e harmonia:** Incluir lazer e hobbies em sua vida ajuda a criar um equilíbrio entre trabalho, responsabilidades e atividades agradáveis.\n> * **Crescimento pessoal:** Os hobbies podem fornecer oportunidades para aprender novas habilidades, expandir interesses e explorar sua criatividade.\n> * **Conexões sociais:** Participar de atividades de lazer ou grupos de hobbies pode ajudá-lo a construir relacionamentos e se conectar com outras pessoas que compartilham seus interesses."
          },
          "metadata": {},
          "execution_count": 60
        }
      ]
    },
    {
      "cell_type": "code",
      "source": [
        "# o usuário precisa indicar a sua auto avaliação em relação a este ponto\n",
        "prompt_lazer = int(input('Valor de 1 a 10: '))"
      ],
      "metadata": {
        "id": "rhTB6zH9nX1k",
        "colab": {
          "base_uri": "https://localhost:8080/"
        },
        "outputId": "e6c9bf96-f529-4f41-9b49-c1d6973e18c5"
      },
      "execution_count": null,
      "outputs": [
        {
          "name": "stdout",
          "output_type": "stream",
          "text": [
            "Valor de 1 a 10: 8\n"
          ]
        }
      ]
    },
    {
      "cell_type": "code",
      "source": [
        "# tratamento para não aceitar valores incorretos\n",
        "while int(prompt_lazer) <= 0 or int(prompt_lazer) > 10:\n",
        "    prompt_lazer = int(input('Valor de 1 a 10: '))"
      ],
      "metadata": {
        "id": "24zbzczNnbmh"
      },
      "execution_count": null,
      "outputs": []
    },
    {
      "cell_type": "code",
      "source": [
        "# em relação a nossa Roda da VIDA - Desenvolvimento pessoal\n",
        "respostaDoModelo = modeloIA.generate_content(\"Em relação a Roda da VIDA, de forma reduzida me explique o que devo saber sobre Desenvolvimento pessoal. Me mostre apenas a importância.\")\n",
        "\n",
        "# exibe um texto na tela para direcionar o usuário\n",
        "to_markdown(respostaDoModelo.text)"
      ],
      "metadata": {
        "colab": {
          "base_uri": "https://localhost:8080/",
          "height": 155
        },
        "id": "ou1jUgcJnew0",
        "outputId": "2a82ee63-4318-4f43-f7de-85c13560d1b1"
      },
      "execution_count": null,
      "outputs": [
        {
          "output_type": "execute_result",
          "data": {
            "text/plain": [
              "<IPython.core.display.Markdown object>"
            ],
            "text/markdown": "> **Importância do Desenvolvimento Pessoal na Roda da Vida:**\n> \n> * Permite identificar áreas de crescimento e melhoria.\n> * Auxilia na definição de metas e no estabelecimento de um plano de ação.\n> * Melhora a autoconfiança, autoestima e motivação.\n> * Amplia habilidades, conhecimento e potencialidades.\n> * Contribui para uma vida mais equilibrada, satisfatória e plena."
          },
          "metadata": {},
          "execution_count": 63
        }
      ]
    },
    {
      "cell_type": "code",
      "source": [
        "# o usuário precisa indicar a sua auto avaliação em relação a este ponto\n",
        "prompt_desenvolvimento = int(input('Valor de 1 a 10: '))"
      ],
      "metadata": {
        "colab": {
          "base_uri": "https://localhost:8080/"
        },
        "id": "KQzoYwFinif5",
        "outputId": "c2bd6310-8079-4907-82d4-5f71669cc2f6"
      },
      "execution_count": null,
      "outputs": [
        {
          "name": "stdout",
          "output_type": "stream",
          "text": [
            "Valor de 1 a 10: 7\n"
          ]
        }
      ]
    },
    {
      "cell_type": "code",
      "source": [
        "# tratamento para não aceitar valores incorretos\n",
        "while int(prompt_desenvolvimento) <= 0 or int(prompt_desenvolvimento) > 10:\n",
        "    prompt_desenvolvimento = int(input('Valor de 1 a 10: '))"
      ],
      "metadata": {
        "id": "lrVNc2eUnjx-"
      },
      "execution_count": null,
      "outputs": []
    },
    {
      "cell_type": "code",
      "source": [
        "# em relação a nossa Roda da VIDA - Contribuição social\n",
        "respostaDoModelo = modeloIA.generate_content(\"Em relação a Roda da VIDA, de forma reduzida me explique o que devo saber sobre Contribuição social. Me mostre apenas a importância.\")\n",
        "\n",
        "# exibe um texto na tela para direcionar o usuário\n",
        "to_markdown(respostaDoModelo.text)"
      ],
      "metadata": {
        "colab": {
          "base_uri": "https://localhost:8080/",
          "height": 155
        },
        "id": "XseG6W87nlT4",
        "outputId": "490e6385-7510-46ec-8cce-e75b927a37ba"
      },
      "execution_count": null,
      "outputs": [
        {
          "output_type": "execute_result",
          "data": {
            "text/plain": [
              "<IPython.core.display.Markdown object>"
            ],
            "text/markdown": "> **Importância da Contribuição Social na Roda da Vida:**\n> \n> * Ajuda a criar um senso de propósito e significado.\n> * Permite que você retribua à comunidade e faça uma diferença positiva.\n> * Melhora o bem-estar mental e físico ao liberar endorfinas.\n> * Fortalece as conexões sociais e cria um sentimento de pertencimento.\n> * Pode levar a novas oportunidades pessoais e profissionais."
          },
          "metadata": {},
          "execution_count": 66
        }
      ]
    },
    {
      "cell_type": "code",
      "source": [
        "# o usuário precisa indicar a sua auto avaliação em relação a este ponto\n",
        "prompt_social = int(input('Valor de 1 a 10: '))"
      ],
      "metadata": {
        "colab": {
          "base_uri": "https://localhost:8080/"
        },
        "id": "R2lzu4jonp46",
        "outputId": "652546f0-ea5f-48f8-ef38-59d691c5f9b1"
      },
      "execution_count": null,
      "outputs": [
        {
          "name": "stdout",
          "output_type": "stream",
          "text": [
            "Valor de 1 a 10: 7\n"
          ]
        }
      ]
    },
    {
      "cell_type": "code",
      "source": [
        "# tratamento para não aceitar valores incorretos\n",
        "while int(prompt_social) <= 0 or int(prompt_social) > 10:\n",
        "    prompt_social = int(input('Valor de 1 a 10: '))"
      ],
      "metadata": {
        "id": "f0jdF2Flnqt1"
      },
      "execution_count": null,
      "outputs": []
    },
    {
      "cell_type": "code",
      "source": [
        "# busquei esta função da intrnet, ela gera uma lista chave valor conforme as respostas\n",
        "def dict_to_text(my_dict):\n",
        "  \"\"\"Converts a dictionary to text with formatted key-value pairs.\n",
        "\n",
        "  Args:\n",
        "      my_dict: The dictionary to convert.\n",
        "\n",
        "  Returns:\n",
        "      A string containing the formatted key-value pairs.\n",
        "  \"\"\"\n",
        "\n",
        "  lines = []\n",
        "  for key, value in my_dict.items():\n",
        "    # Ensure consistent string representation for values\n",
        "    value_str = str(value)\n",
        "\n",
        "    # Format the key-value pair with proper indentation and spacing\n",
        "    line = f\"{key}={value_str}\"\n",
        "    lines.append(line)\n",
        "\n",
        "  return \"\\n\".join(lines)"
      ],
      "metadata": {
        "id": "vEBDUum6qVO5"
      },
      "execution_count": null,
      "outputs": []
    },
    {
      "cell_type": "code",
      "source": [
        "# helper de código para ajudar a DEBUGAR a aplicação\n",
        "# iniciando variaveis da roda da vida\n",
        "\n",
        "# descomente abaixo caso queira testar resultados\n",
        "\n",
        "# prompt_familia = 5\n",
        "# prompt_saude = 4\n",
        "# prompt_trabalho = 1\n",
        "# prompt_espirito = 4\n",
        "# prompt_lazer = 2\n",
        "# prompt_desenvolvimento = 5\n",
        "# prompt_social = 3"
      ],
      "metadata": {
        "id": "_FTQ_FBcsbc9"
      },
      "execution_count": null,
      "outputs": []
    },
    {
      "cell_type": "code",
      "source": [
        "# Cria um dicionário com cada auto-avaliação\n",
        "dicionario = {\n",
        "    \"Familia\": prompt_familia\n",
        "    , \"Saude\" : prompt_saude\n",
        "    , \"Trabalho\" : prompt_trabalho\n",
        "    , \"Espirito\" : prompt_espirito\n",
        "    , \"Lazer\" : prompt_lazer\n",
        "    , \"Desenvolvimento\" : prompt_desenvolvimento\n",
        "    , \"Social\" : prompt_social\n",
        "}\n"
      ],
      "metadata": {
        "id": "0YIw3rrAoVjl"
      },
      "execution_count": null,
      "outputs": []
    },
    {
      "cell_type": "code",
      "source": [
        "#print(dict_to_text(dicionario))\n",
        "\n",
        "# avalie as notas\n",
        "respostaDoModelo = modeloIA.generate_content(\n",
        "    [\n",
        "        \"Você é um psicologo especialista na roda da vida.\"\n",
        "        \"Você deve avaliar dois itens conforme as notas indicadas de 1 a 10 e buscar pelas menores notas. Selecione apenas as duas menores notas.\",\n",
        "        \"Para os itens com menores notas, informe indicações práticas para melhorar a auto-estima.\",\n",
        "        dict_to_text(dicionario)\n",
        "    ]\n",
        ")\n",
        "\n",
        "# exibe um texto na tela para direcionar o usuário\n",
        "to_markdown(respostaDoModelo.text)"
      ],
      "metadata": {
        "colab": {
          "base_uri": "https://localhost:8080/",
          "height": 307
        },
        "id": "TAiZ4tqyqXTL",
        "outputId": "a9a90eed-b38e-4407-8a38-ed3429f6d6b6"
      },
      "execution_count": null,
      "outputs": [
        {
          "output_type": "execute_result",
          "data": {
            "text/plain": [
              "<IPython.core.display.Markdown object>"
            ],
            "text/markdown": "> **Menores Notas:**\n> \n> * Saúde: 6\n> * Desenvolvimento: 7\n> \n> **Indicações Práticas para Melhorar a Auto-Estima:**\n> \n> **Saúde (nota 6):**\n> \n> * Priorizar o autocuidado, incluindo hábitos alimentares saudáveis, exercícios regulares e sono adequado.\n> * Consultar um profissional de saúde para identificar e tratar quaisquer problemas de saúde subjacentes.\n> * Participar de atividades que promovam bem-estar físico e mental, como ioga, meditação ou esportes.\n> \n> **Desenvolvimento (nota 7):**\n> \n> * Estabelecer metas pessoais e profissionais desafiadoras, mas alcançáveis.\n> * Procurar oportunidades de aprendizado e crescimento, como cursos, workshops ou mentorias.\n> * Celebrar conquistas e reconhecer o progresso, por menor que seja.\n> * Buscar feedback construtivo e usá-lo para melhorar as habilidades e competências."
          },
          "metadata": {},
          "execution_count": 72
        }
      ]
    },
    {
      "cell_type": "code",
      "source": [
        "# avalie as notas\n",
        "respostaDoModelo = modeloIA.generate_content(\n",
        "    [\n",
        "        \"Você é um psicologo especialista na roda da vida.\",\n",
        "        \"Procure as duas maiores notas, e as duas menores notas da lista abaixo\",\n",
        "         dict_to_text(dicionario),\n",
        "        \"E faça um relacionamento de como as áreas com maiores pontuações podem ajudar nas de menor pontuação\",\n",
        "        \"Dê exemplos práticos que podem ser realizados no dia a dia de uma pessoa normal\"\n",
        "    ]\n",
        ")\n",
        "\n",
        "# exibe um texto na tela para direcionar o usuário\n",
        "to_markdown(respostaDoModelo.text)"
      ],
      "metadata": {
        "colab": {
          "base_uri": "https://localhost:8080/",
          "height": 555
        },
        "id": "EXio6j5nihKE",
        "outputId": "917c68cc-f48b-49f4-80c4-eb18180211fb"
      },
      "execution_count": null,
      "outputs": [
        {
          "output_type": "execute_result",
          "data": {
            "text/plain": [
              "<IPython.core.display.Markdown object>"
            ],
            "text/markdown": "> **Maiores notas:**\n> \n> * Família = 8\n> * Trabalho = 8\n> * Espirito = 8\n> * Lazer = 8\n> \n> **Menores notas:**\n> \n> * Saúde = 6\n> * Desenvolvimento = 7\n> \n> **Relacionamento entre as áreas com maiores pontuações e as de menor pontuação:**\n> \n> * **Família e Saúde:** O apoio familiar pode fornecer motivação e encorajamento para priorizar a saúde, como manter uma dieta saudável e fazer exercícios regulares.\n> * **Trabalho e Saúde:** Um trabalho gratificante e equilibrado pode reduzir o estresse e melhorar a saúde geral.\n> * **Espírito e Saúde:** Praticar atividades espirituais, como meditação ou ioga, pode reduzir a ansiedade e promover a saúde mental e física.\n> * **Lazer e Saúde:** Atividades de lazer que envolvem atividade física, como caminhar ou nadar, podem melhorar a saúde cardiovascular e o bem-estar geral.\n> * **Família e Desenvolvimento:** O apoio familiar pode criar um ambiente propício para o crescimento e desenvolvimento pessoal.\n> * **Trabalho e Desenvolvimento:** Oportunidades de treinamento e desenvolvimento no trabalho podem promover o crescimento profissional e pessoal.\n> * **Espírito e Desenvolvimento:** Atividades espirituais podem promover autoconsciência e reflexão, levando ao desenvolvimento pessoal.\n> \n> **Exemplos práticos para o dia a dia:**\n> \n> * **Família e Saúde:** Cozinhar refeições saudáveis em família ou participar de atividades esportivas juntos.\n> * **Trabalho e Saúde:** Fazer pausas regulares durante o dia de trabalho para se movimentar ou meditar.\n> * **Espírito e Saúde:** Praticar meditação ou ioga por alguns minutos todos os dias.\n> * **Lazer e Saúde:** Incorporar caminhadas ou natação na rotina de lazer.\n> * **Família e Desenvolvimento:** Envolver a família em atividades de aprendizado ou desenvolvimento de habilidades.\n> * **Trabalho e Desenvolvimento:** Aproveitar oportunidades de treinamento ou mentoria oferecidas no local de trabalho.\n> * **Espírito e Desenvolvimento:** Refletir sobre as próprias experiências e valores por meio de um diário ou conversas significativas."
          },
          "metadata": {},
          "execution_count": 73
        }
      ]
    }
  ]
}