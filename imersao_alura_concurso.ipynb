{
  "nbformat": 4,
  "nbformat_minor": 0,
  "metadata": {
    "colab": {
      "provenance": [],
      "authorship_tag": "ABX9TyNgUd3CZwxWro8ZaGk1uHAd",
      "include_colab_link": true
    },
    "kernelspec": {
      "name": "python3",
      "display_name": "Python 3"
    },
    "language_info": {
      "name": "python"
    }
  },
  "cells": [
    {
      "cell_type": "markdown",
      "metadata": {
        "id": "view-in-github",
        "colab_type": "text"
      },
      "source": [
        "<a href=\"https://colab.research.google.com/github/adrwtr/imersao-alura-ia-concurso/blob/main/imersao_alura_concurso.ipynb\" target=\"_parent\"><img src=\"https://colab.research.google.com/assets/colab-badge.svg\" alt=\"Open In Colab\"/></a>"
      ]
    },
    {
      "cell_type": "code",
      "execution_count": 1,
      "metadata": {
        "colab": {
          "base_uri": "https://localhost:8080/"
        },
        "id": "_bsH9vCmamUN",
        "outputId": "ba61a13f-5c0e-4a13-ce5b-d0234f1f8836"
      },
      "outputs": [
        {
          "output_type": "stream",
          "name": "stdout",
          "text": [
            "hello\n"
          ]
        }
      ],
      "source": [
        "print(\"hello\")"
      ]
    },
    {
      "cell_type": "code",
      "source": [
        "# instalando no projeto do COLAB a biblioteca do GOOGLE GENERATIVEAI\n",
        "!pip install -q -U google-generativeai"
      ],
      "metadata": {
        "id": "Gqax8wRjbjJP"
      },
      "execution_count": 2,
      "outputs": []
    },
    {
      "cell_type": "code",
      "source": [
        "# informa para a programação que vamos usar as bibliotecas\n",
        "import google.generativeai as genai\n",
        "from google.colab import userdata\n",
        "\n",
        "# Define a variavel que avi buscar do userdata a chave para a API\n",
        "api_key = userdata.get('SECRET_KEY')\n",
        "\n",
        "# verifica se a importação da chave funcionou\n",
        "# print(api_key)\n",
        "\n",
        "genai.configure(api_key=api_key)"
      ],
      "metadata": {
        "id": "6I2mdh9lbq5Z"
      },
      "execution_count": 10,
      "outputs": []
    },
    {
      "cell_type": "code",
      "source": [
        "# Definições e configurações do modelo\n",
        "generation_config = {\n",
        "  \"temperature\": 1,\n",
        "  \"top_p\": 0.95,\n",
        "  \"top_k\": 0\n",
        "}\n",
        "\n",
        "# configurações de segurança\n",
        "safety_settings = [\n",
        "  {\n",
        "    \"category\": \"HARM_CATEGORY_HARASSMENT\",\n",
        "    \"threshold\": \"BLOCK_NONE\"\n",
        "  },\n",
        "  {\n",
        "    \"category\": \"HARM_CATEGORY_HATE_SPEECH\",\n",
        "    \"threshold\": \"BLOCK_NONE\"\n",
        "  },\n",
        "  {\n",
        "    \"category\": \"HARM_CATEGORY_SEXUALLY_EXPLICIT\",\n",
        "    \"threshold\": \"BLOCK_NONE\"\n",
        "  },\n",
        "  {\n",
        "    \"category\": \"HARM_CATEGORY_DANGEROUS_CONTENT\",\n",
        "    \"threshold\": \"BLOCK_NONE\"\n",
        "  },\n",
        "\n",
        "]\n",
        "\n",
        "# define qual versao vamos usar\n",
        "model_name = 'gemini-1.0-pro'\n",
        "\n",
        "# inicia o modelo conforme as configurações\n",
        "modeloIA = genai.GenerativeModel(model_name=model_name,\n",
        "                              generation_config=generation_config,\n",
        "                              safety_settings=safety_settings)"
      ],
      "metadata": {
        "id": "51MGcuOSclRl"
      },
      "execution_count": 11,
      "outputs": []
    },
    {
      "cell_type": "code",
      "source": [
        "# importar a biblioteca para formatar o texto\n",
        "import textwrap\n",
        "from IPython.display import display\n",
        "from IPython.display import Markdown\n",
        "\n",
        "# cria uma função que podemos usar para converter o texto para markdown, deixa o texto legivel/bonito\n",
        "def to_markdown(text):\n",
        "  text = text.replace('•', '  *')\n",
        "  return Markdown(textwrap.indent(text, '> ', predicate=lambda _: True))"
      ],
      "metadata": {
        "id": "ttwQc23PiF-q"
      },
      "execution_count": 12,
      "outputs": []
    },
    {
      "cell_type": "code",
      "source": [
        "# iniciando variaveis da roda da vida\n",
        "prompt_familia = 0\n",
        "prompt_saude = 0\n",
        "prompt_trabalho = 0\n",
        "prompt_espirito = 0\n",
        "prompt_lazer = 0\n",
        "prompt_desenvolvimento = 0\n",
        "prompt_social = 0"
      ],
      "metadata": {
        "id": "8EB4SrXqpX_f"
      },
      "execution_count": 48,
      "outputs": []
    },
    {
      "cell_type": "code",
      "source": [
        "# em relação a nossa Roda da VIDA - Família e relações\n",
        "respostaDoModelo = modeloIA.generate_content(\"Em relação a Roda da VIDA, de forma reduzida me explique o que devo saber sobre Família e relações. Me mostre apenas a importância.\")\n",
        "\n",
        "# exibe o texto vindo do GEMINI\n",
        "to_markdown(respostaDoModelo.text)"
      ],
      "metadata": {
        "colab": {
          "base_uri": "https://localhost:8080/",
          "height": 196
        },
        "id": "cS7F-9WndUXN",
        "outputId": "5c300762-051a-4273-cf2a-7781aaa745f6"
      },
      "execution_count": 16,
      "outputs": [
        {
          "output_type": "execute_result",
          "data": {
            "text/plain": [
              "<IPython.core.display.Markdown object>"
            ],
            "text/markdown": "> **Importância da Família e Relações na Roda da Vida:**\n> \n> A Família e as Relações são um aspecto crucial da Roda da Vida, representando as conexões e o apoio que temos com nossos entes queridos. Eles fornecem:\n> \n> * **Estabilidade emocional:** Um sistema de apoio amoroso e acolhedor que nos ajuda a lidar com os desafios da vida.\n> * **Sentimento de pertencimento:** A sensação de ser parte de algo maior e ter um lugar onde somos amados e aceitos.\n> * **Orientação e crescimento:** Conexões familiares e relacionais podem oferecer orientação, insights e oportunidades de crescimento.\n> * **Saúde e bem-estar:** Estudos mostram que relacionamentos fortes estão associados a melhor saúde física e mental.\n> * **Felicidade e realização:** Relacionamentos significativos contribuem significativamente para a nossa felicidade e sentimento de propósito."
          },
          "metadata": {},
          "execution_count": 16
        }
      ]
    },
    {
      "cell_type": "code",
      "source": [
        "# exibe um texto na tela para direcionar o usuário\n",
        "to_markdown(\"Em relação a **Família e relações**, como você avalia estes itens na sua vida? Informe a sua avaliação em valor de 1 a 5, sendo 1 para baixa importância e 5 alta importância pra você: \")"
      ],
      "metadata": {
        "colab": {
          "base_uri": "https://localhost:8080/",
          "height": 80
        },
        "id": "MzXt6AT6jrHN",
        "outputId": "713f7f59-8c3f-4a48-fb8f-7b3c0905a4c8"
      },
      "execution_count": 18,
      "outputs": [
        {
          "output_type": "execute_result",
          "data": {
            "text/plain": [
              "<IPython.core.display.Markdown object>"
            ],
            "text/markdown": "> Em relação a **Família e relações**, como você avalia estes itens na sua vida? Informe a importânci em valor de 1 a 5, sendo 1 para baixa importância e 5 alta importância pra você: "
          },
          "metadata": {},
          "execution_count": 18
        }
      ]
    },
    {
      "cell_type": "code",
      "source": [
        "# o usuário precisa indicar a sua auto avaliação em relação a este ponto\n",
        "prompt_familia = int(input('Valor de 1 a 5: '))"
      ],
      "metadata": {
        "colab": {
          "base_uri": "https://localhost:8080/"
        },
        "id": "ZHbL0Y8kj0Ia",
        "outputId": "56d29045-fe9c-4766-d041-af8d5644ee47"
      },
      "execution_count": 60,
      "outputs": [
        {
          "name": "stdout",
          "output_type": "stream",
          "text": [
            "Valor de 1 a 5: 4\n"
          ]
        }
      ]
    },
    {
      "cell_type": "code",
      "source": [
        "# tratamento para não aceitar valores incorretos\n",
        "while int(prompt_familia) <= 0 or int(prompt_familia) > 5:\n",
        "    prompt_familia = int(input('Valor de 1 a 5: '))"
      ],
      "metadata": {
        "colab": {
          "base_uri": "https://localhost:8080/"
        },
        "id": "eEYsmpRJkXa6",
        "outputId": "84e901bb-f33c-47fb-d646-e14dadd4763d"
      },
      "execution_count": 31,
      "outputs": [
        {
          "name": "stdout",
          "output_type": "stream",
          "text": [
            "Valor de 1 a 5: 3\n"
          ]
        }
      ]
    },
    {
      "cell_type": "code",
      "source": [
        "# em relação a nossa Roda da VIDA - SAUDE\n",
        "respostaDoModelo = modeloIA.generate_content(\"Em relação a Roda da VIDA, de forma reduzida me explique o que devo saber sobre Saúde. Me mostre apenas a importância.\")\n",
        "\n",
        "# exibe um texto na tela para direcionar o usuário\n",
        "to_markdown(respostaDoModelo.text)"
      ],
      "metadata": {
        "colab": {
          "base_uri": "https://localhost:8080/",
          "height": 138
        },
        "id": "dNX025Hzk6uI",
        "outputId": "ea6da042-b13c-488b-bb75-b6d9fd7c3431"
      },
      "execution_count": 32,
      "outputs": [
        {
          "output_type": "execute_result",
          "data": {
            "text/plain": [
              "<IPython.core.display.Markdown object>"
            ],
            "text/markdown": "> **Importância da Saúde na Roda da VIDA:**\n> \n> * A saúde física e mental é essencial para o bem-estar geral.\n> * Impacta diretamente a energia, produtividade e felicidade.\n> * Um estilo de vida saudável pode prevenir doenças crônicas e melhorar a qualidade de vida.\n> * A negligência da saúde pode ter consequências negativas para todos os outros aspectos da vida, como relacionamentos, carreira e finanças."
          },
          "metadata": {},
          "execution_count": 32
        }
      ]
    },
    {
      "cell_type": "code",
      "source": [
        "# o usuário precisa indicar a sua auto avaliação em relação a este ponto\n",
        "prompt_saude = int(input('Valor de 1 a 5: '))"
      ],
      "metadata": {
        "colab": {
          "base_uri": "https://localhost:8080/"
        },
        "id": "Y68FEmyVlGWW",
        "outputId": "50c0c8ea-0b4b-44b4-b2b2-85db826428ce"
      },
      "execution_count": 33,
      "outputs": [
        {
          "name": "stdout",
          "output_type": "stream",
          "text": [
            "Valor de 1 a 5: 3\n"
          ]
        }
      ]
    },
    {
      "cell_type": "code",
      "source": [
        "# tratamento para não aceitar valores incorretos\n",
        "while int(prompt_saude) <= 0 or int(prompt_saude) > 5:\n",
        "    prompt_saude = int(input('Valor de 1 a 5: '))"
      ],
      "metadata": {
        "id": "OES45x8BlJB6"
      },
      "execution_count": null,
      "outputs": []
    },
    {
      "cell_type": "code",
      "source": [
        "# em relação a nossa Roda da VIDA - Trabalho e carreira\n",
        "respostaDoModelo = modeloIA.generate_content(\"Em relação a Roda da VIDA, de forma reduzida me explique o que devo saber sobre Trabalho e carreira. Me mostre apenas a importância.\")\n",
        "\n",
        "# exibe um texto na tela para direcionar o usuário\n",
        "to_markdown(respostaDoModelo.text)"
      ],
      "metadata": {
        "colab": {
          "base_uri": "https://localhost:8080/",
          "height": 190
        },
        "id": "AWRLkLKCmFup",
        "outputId": "dab87290-ca4e-46ec-a284-10d45eb111f3"
      },
      "execution_count": 34,
      "outputs": [
        {
          "output_type": "execute_result",
          "data": {
            "text/plain": [
              "<IPython.core.display.Markdown object>"
            ],
            "text/markdown": "> **Importância do Trabalho e Carreira na Roda da Vida:**\n> \n> * **Propósito e realização:** Encontrar um trabalho alinhado com seus valores e objetivos traz senso de significado e propósito.\n> * **Estabilidade financeira:** Uma carreira estável fornece segurança financeira e tranquilidade.\n> * **Desenvolvimento pessoal e crescimento:** O trabalho pode oferecer oportunidades para aprender, desenvolver habilidades e crescer profissionalmente.\n> * **Contribuição social:** O trabalho pode permitir que você faça a diferença no mundo, usando suas habilidades para contribuir para o bem comum.\n> * **Identidade e status:** A carreira pode influenciar nossa autoimagem, status social e conexões na comunidade."
          },
          "metadata": {},
          "execution_count": 34
        }
      ]
    },
    {
      "cell_type": "code",
      "source": [
        "# o usuário precisa indicar a sua auto avaliação em relação a este ponto\n",
        "prompt_trabalho = int(input('Valor de 1 a 5: '))"
      ],
      "metadata": {
        "colab": {
          "base_uri": "https://localhost:8080/"
        },
        "id": "KVxNUB0TmN-u",
        "outputId": "a8aea4f2-0df7-4b62-8522-5ea792c4f881"
      },
      "execution_count": 35,
      "outputs": [
        {
          "name": "stdout",
          "output_type": "stream",
          "text": [
            "Valor de 1 a 5: 3\n"
          ]
        }
      ]
    },
    {
      "cell_type": "code",
      "source": [
        "# tratamento para não aceitar valores incorretos\n",
        "while int(prompt_trabalho) <= 0 or int(prompt_trabalho) > 5:\n",
        "    prompt_trabalho = int(input('Valor de 1 a 5: '))"
      ],
      "metadata": {
        "id": "FVXOGa5TmOf5"
      },
      "execution_count": 37,
      "outputs": []
    },
    {
      "cell_type": "code",
      "source": [
        "# em relação a nossa Roda da VIDA - Finanças\n",
        "respostaDoModelo = modeloIA.generate_content(\"Em relação a Roda da VIDA, de forma reduzida me explique o que devo saber sobre Finanças. Me mostre apenas a importância.\")\n",
        "\n",
        "# exibe um texto na tela para direcionar o usuário\n",
        "to_markdown(respostaDoModelo.text)"
      ],
      "metadata": {
        "colab": {
          "base_uri": "https://localhost:8080/",
          "height": 172
        },
        "id": "gkpcCe8Gmp-H",
        "outputId": "2dffefa1-c482-4b78-fcd3-d2e5bdbc6e0b"
      },
      "execution_count": 38,
      "outputs": [
        {
          "output_type": "execute_result",
          "data": {
            "text/plain": [
              "<IPython.core.display.Markdown object>"
            ],
            "text/markdown": "> **Importância das Finanças na Roda da Vida:**\n> \n> * **Estabilidade e segurança:** Finanças saudáveis fornecem uma base segura para outras áreas da vida, reduzindo estresse e ansiedade.\n> * **Independência:** A autossuficiência financeira permite controlar o próprio futuro e tomar decisões com liberdade.\n> * **Oportunidades:** Finanças sólidas criam oportunidades para investir em educação, saúde, viagens e outros aspectos que aprimoram a qualidade de vida.\n> * **Relacionamentos saudáveis:** As finanças podem impactar positivamente os relacionamentos, evitando conflitos e promovendo confiança.\n> * **Paz de espírito:** Saber que as finanças estão sob controle traz uma sensação de paz e bem-estar."
          },
          "metadata": {},
          "execution_count": 38
        }
      ]
    },
    {
      "cell_type": "code",
      "source": [
        "# o usuário precisa indicar a sua auto avaliação em relação a este ponto\n",
        "prompt_financeiro = int(input('Valor de 1 a 5: '))"
      ],
      "metadata": {
        "colab": {
          "base_uri": "https://localhost:8080/"
        },
        "id": "iEJOHBjFmrEM",
        "outputId": "51b00ff3-e3c8-4e46-a71f-bfc80a377959"
      },
      "execution_count": 58,
      "outputs": [
        {
          "name": "stdout",
          "output_type": "stream",
          "text": [
            "Valor de 1 a 5: 1\n"
          ]
        }
      ]
    },
    {
      "cell_type": "code",
      "source": [
        "# tratamento para não aceitar valores incorretos\n",
        "while int(prompt_financeiro) <= 0 or int(prompt_financeiro) > 5:\n",
        "    prompt_financeiro = int(input('Valor de 1 a 5: '))"
      ],
      "metadata": {
        "id": "PPYjbccgmsIE"
      },
      "execution_count": null,
      "outputs": []
    },
    {
      "cell_type": "code",
      "source": [
        "# em relação a nossa Roda da VIDA - Espiritualidade\n",
        "respostaDoModelo = modeloIA.generate_content(\"Em relação a Roda da VIDA, de forma reduzida me explique o que devo saber sobre Espiritualidade. Me mostre apenas a importância.\")\n",
        "\n",
        "# exibe um texto na tela para direcionar o usuário\n",
        "to_markdown(respostaDoModelo.text)"
      ],
      "metadata": {
        "colab": {
          "base_uri": "https://localhost:8080/",
          "height": 178
        },
        "id": "_02M4fuynBCM",
        "outputId": "627d38cc-070b-442d-c386-54ba79e68c8d"
      },
      "execution_count": 40,
      "outputs": [
        {
          "output_type": "execute_result",
          "data": {
            "text/plain": [
              "<IPython.core.display.Markdown object>"
            ],
            "text/markdown": "> **Espiritualidade na Roda da Vida:**\n> \n> A espiritualidade é um aspecto crucial da Roda da Vida, pois representa:\n> \n> * **Conexão com um propósito maior:** Permite que você descubra seu significado e objetivo de vida.\n> * **Paz interior e bem-estar:** Ajuda a desenvolver resiliência, calma e um senso de propósito.\n> * **Orientação e sabedoria:** Oferece orientação durante tempos de desafio e incerteza.\n> * **Crescimento pessoal:** Facilita o autoconhecimento, a reflexão e a transformação.\n> * **Harmonia e conexão:** Promove um sentimento de pertencimento e unidade com os outros e com o mundo."
          },
          "metadata": {},
          "execution_count": 40
        }
      ]
    },
    {
      "cell_type": "code",
      "source": [
        "# o usuário precisa indicar a sua auto avaliação em relação a este ponto\n",
        "prompt_espirito = int(input('Valor de 1 a 5: '))"
      ],
      "metadata": {
        "colab": {
          "base_uri": "https://localhost:8080/"
        },
        "id": "0LZn8YqZnGXQ",
        "outputId": "d5960578-282f-4ccb-9b32-50b410ac358f"
      },
      "execution_count": 57,
      "outputs": [
        {
          "name": "stdout",
          "output_type": "stream",
          "text": [
            "Valor de 1 a 5: 3\n"
          ]
        }
      ]
    },
    {
      "cell_type": "code",
      "source": [
        "# tratamento para não aceitar valores incorretos\n",
        "while int(prompt_espirito) <= 0 or int(prompt_espirito) > 5:\n",
        "    prompt_espirito = int(input('Valor de 1 a 5: '))"
      ],
      "metadata": {
        "id": "Gvy07Y9RnGws"
      },
      "execution_count": null,
      "outputs": []
    },
    {
      "cell_type": "code",
      "source": [
        "# em relação a nossa Roda da VIDA - Lazer e hobbies\n",
        "respostaDoModelo = modeloIA.generate_content(\"Em relação a Roda da VIDA, de forma reduzida me explique o que devo saber sobre Lazer e hobbies. Me mostre apenas a importância.\")\n",
        "\n",
        "# exibe um texto na tela para direcionar o usuário\n",
        "to_markdown(respostaDoModelo.text)"
      ],
      "metadata": {
        "id": "xb4jndNanLQ_"
      },
      "execution_count": null,
      "outputs": []
    },
    {
      "cell_type": "code",
      "source": [
        "# o usuário precisa indicar a sua auto avaliação em relação a este ponto\n",
        "prompt_lazer = int(input('Valor de 1 a 5: '))"
      ],
      "metadata": {
        "id": "rhTB6zH9nX1k"
      },
      "execution_count": null,
      "outputs": []
    },
    {
      "cell_type": "code",
      "source": [
        "# tratamento para não aceitar valores incorretos\n",
        "while int(prompt_lazer) <= 0 or int(prompt_lazer) > 5:\n",
        "    prompt_lazer = int(input('Valor de 1 a 5: '))"
      ],
      "metadata": {
        "id": "24zbzczNnbmh"
      },
      "execution_count": null,
      "outputs": []
    },
    {
      "cell_type": "code",
      "source": [
        "# em relação a nossa Roda da VIDA - Desenvolvimento pessoal\n",
        "respostaDoModelo = modeloIA.generate_content(\"Em relação a Roda da VIDA, de forma reduzida me explique o que devo saber sobre Desenvolvimento pessoal. Me mostre apenas a importância.\")\n",
        "\n",
        "# exibe um texto na tela para direcionar o usuário\n",
        "to_markdown(respostaDoModelo.text)"
      ],
      "metadata": {
        "colab": {
          "base_uri": "https://localhost:8080/",
          "height": 178
        },
        "id": "ou1jUgcJnew0",
        "outputId": "62f75205-ca62-4edc-81ae-0ff61cd3d81e"
      },
      "execution_count": 42,
      "outputs": [
        {
          "output_type": "execute_result",
          "data": {
            "text/plain": [
              "<IPython.core.display.Markdown object>"
            ],
            "text/markdown": "> **Desenvolvimento Pessoal na Roda da Vida**\n> \n> **Importância:**\n> \n> * Auxilia no autoconhecimento e identificação de áreas que precisam de aprimoramento.\n> * Promove o crescimento contínuo e a melhoria das habilidades.\n> * Aumenta a autoconfiança e a resiliência.\n> * Permite estabelecer metas e planos para alcançar objetivos de vida.\n> * Contribui para uma vida mais equilibrada e satisfatória."
          },
          "metadata": {},
          "execution_count": 42
        }
      ]
    },
    {
      "cell_type": "code",
      "source": [
        "# o usuário precisa indicar a sua auto avaliação em relação a este ponto\n",
        "prompt_desenvolvimento = int(input('Valor de 1 a 5: '))"
      ],
      "metadata": {
        "colab": {
          "base_uri": "https://localhost:8080/"
        },
        "id": "KQzoYwFinif5",
        "outputId": "78a761ec-40cf-4364-c06c-36be44e4f673"
      },
      "execution_count": 56,
      "outputs": [
        {
          "name": "stdout",
          "output_type": "stream",
          "text": [
            "Valor de 1 a 5: 5\n"
          ]
        }
      ]
    },
    {
      "cell_type": "code",
      "source": [
        "# tratamento para não aceitar valores incorretos\n",
        "while int(prompt_desenvolvimento) <= 0 or int(prompt_desenvolvimento) > 5:\n",
        "    prompt_desenvolvimento = int(input('Valor de 1 a 5: '))"
      ],
      "metadata": {
        "id": "lrVNc2eUnjx-"
      },
      "execution_count": null,
      "outputs": []
    },
    {
      "cell_type": "code",
      "source": [
        "# em relação a nossa Roda da VIDA - Contribuição social\n",
        "respostaDoModelo = modeloIA.generate_content(\"Em relação a Roda da VIDA, de forma reduzida me explique o que devo saber sobre Contribuição social. Me mostre apenas a importância.\")\n",
        "\n",
        "# exibe um texto na tela para direcionar o usuário\n",
        "to_markdown(respostaDoModelo.text)"
      ],
      "metadata": {
        "colab": {
          "base_uri": "https://localhost:8080/",
          "height": 202
        },
        "id": "XseG6W87nlT4",
        "outputId": "3b2aee8f-9148-45bf-c6e9-4037789a491d"
      },
      "execution_count": 43,
      "outputs": [
        {
          "output_type": "execute_result",
          "data": {
            "text/plain": [
              "<IPython.core.display.Markdown object>"
            ],
            "text/markdown": "> **Importância da Contribuição Social**\n> \n> A contribuição social na Roda da Vida representa o impacto positivo que um indivíduo tem na sociedade. Ela enfatiza a responsabilidade de contribuir para o bem-estar dos outros e da comunidade.\n> \n> Sua importância reside no:\n> \n> * Desenvolvimento de um senso de propósito e significado na vida\n> * Fortalecimento de conexões com a comunidade\n> * Promoção de um mundo mais justo e equitativo\n> * Deixar um legado positivo para as gerações futuras"
          },
          "metadata": {},
          "execution_count": 43
        }
      ]
    },
    {
      "cell_type": "code",
      "source": [
        "# o usuário precisa indicar a sua auto avaliação em relação a este ponto\n",
        "prompt_social = int(input('Valor de 1 a 5: '))"
      ],
      "metadata": {
        "colab": {
          "base_uri": "https://localhost:8080/"
        },
        "id": "R2lzu4jonp46",
        "outputId": "1d0ce9f6-d44c-4f27-aadb-02c4b3b75d46"
      },
      "execution_count": 44,
      "outputs": [
        {
          "name": "stdout",
          "output_type": "stream",
          "text": [
            "Valor de 1 a 5: 3\n"
          ]
        }
      ]
    },
    {
      "cell_type": "code",
      "source": [
        "# tratamento para não aceitar valores incorretos\n",
        "while int(prompt_social) <= 0 or int(prompt_social) > 5:\n",
        "    prompt_social = int(input('Valor de 1 a 5: '))"
      ],
      "metadata": {
        "id": "f0jdF2Flnqt1"
      },
      "execution_count": null,
      "outputs": []
    },
    {
      "cell_type": "code",
      "source": [
        "def dict_to_text(my_dict):\n",
        "  \"\"\"Converts a dictionary to text with formatted key-value pairs.\n",
        "\n",
        "  Args:\n",
        "      my_dict: The dictionary to convert.\n",
        "\n",
        "  Returns:\n",
        "      A string containing the formatted key-value pairs.\n",
        "  \"\"\"\n",
        "\n",
        "  lines = []\n",
        "  for key, value in my_dict.items():\n",
        "    # Ensure consistent string representation for values\n",
        "    value_str = str(value)\n",
        "\n",
        "    # Format the key-value pair with proper indentation and spacing\n",
        "    line = f\"{key}={value_str}\"\n",
        "    lines.append(line)\n",
        "\n",
        "  return \"\\n\".join(lines)"
      ],
      "metadata": {
        "id": "vEBDUum6qVO5"
      },
      "execution_count": 51,
      "outputs": []
    },
    {
      "cell_type": "code",
      "source": [
        "# helper de código para ajudar a DEBUGAR a aplicação\n",
        "# iniciando variaveis da roda da vida\n",
        "prompt_familia = 5\n",
        "prompt_saude = 4\n",
        "prompt_trabalho = 1\n",
        "prompt_espirito = 4\n",
        "prompt_lazer = 2\n",
        "prompt_desenvolvimento = 5\n",
        "prompt_social = 3"
      ],
      "metadata": {
        "id": "_FTQ_FBcsbc9"
      },
      "execution_count": 64,
      "outputs": []
    },
    {
      "cell_type": "code",
      "source": [
        "# Cria um dicionário com cada auto-avaliação\n",
        "dicionario = {\n",
        "    \"Familia\": prompt_familia\n",
        "    , \"Saude\" : prompt_saude\n",
        "    , \"Trabalho\" : prompt_trabalho\n",
        "    , \"Espirito\" : prompt_espirito\n",
        "    , \"Lazer\" : prompt_lazer\n",
        "    , \"Desenvolvimento\" : prompt_desenvolvimento\n",
        "    , \"Social\" : prompt_social\n",
        "}\n"
      ],
      "metadata": {
        "id": "0YIw3rrAoVjl"
      },
      "execution_count": 66,
      "outputs": []
    },
    {
      "cell_type": "code",
      "source": [
        "#print(dict_to_text(dicionario))\n",
        "\n",
        "# avalie as notas\n",
        "respostaDoModelo = modeloIA.generate_content(\n",
        "    [\n",
        "        \"Você é um psicologo especialista na roda da vida.\"\n",
        "        \"Você deve avaliar dois itens conforme as notas indicadas de 1 a 5 e buscar pelas menores notas.\",\n",
        "        \"Para os itens com menores notas, informe indicações práticas para melhorar a auto-estima.\",\n",
        "        dict_to_text(dicionario)\n",
        "    ]\n",
        ")\n",
        "\n",
        "# exibe um texto na tela para direcionar o usuário\n",
        "to_markdown(respostaDoModelo.text)"
      ],
      "metadata": {
        "colab": {
          "base_uri": "https://localhost:8080/",
          "height": 359
        },
        "id": "TAiZ4tqyqXTL",
        "outputId": "9af7339f-b266-4ff9-e28d-cc6f800c25dd"
      },
      "execution_count": 67,
      "outputs": [
        {
          "output_type": "execute_result",
          "data": {
            "text/plain": [
              "<IPython.core.display.Markdown object>"
            ],
            "text/markdown": "> **Itens com menores notas:**\n> \n> * Trabalho (1)\n> * Lazer (2)\n> \n> **Indicações práticas para melhorar a auto-estima:**\n> \n> **Trabalho (nota 1)**\n> \n> * Estabeleça metas realistas e alcançáveis.\n> * Reconheça e celebre seus sucessos, por menores que sejam.\n> * Busque feedback construtivo e use-o para crescer e se desenvolver.\n> * Explore oportunidades de desenvolvimento profissional.\n> * Considere a possibilidade de fazer uma transição de carreira se o trabalho atual não for mais satisfatório.\n> \n> **Lazer (nota 2)**\n> \n> * Reserve tempo para atividades que lhe tragam alegria e realização.\n> * Experimente novos hobbies ou atividades.\n> * Conecte-se com amigos e familiares por meio de atividades de lazer.\n> * Pratique a autocuidado, dedicando tempo a atividades que promovam seu bem-estar físico e mental.\n> * Participe de grupos ou comunidades que compartilhem seus interesses."
          },
          "metadata": {},
          "execution_count": 67
        }
      ]
    }
  ]
}